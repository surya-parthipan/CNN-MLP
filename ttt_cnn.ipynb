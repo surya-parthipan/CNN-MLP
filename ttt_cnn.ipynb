{
  "nbformat": 4,
  "nbformat_minor": 0,
  "metadata": {
    "colab": {
      "provenance": []
    },
    "kernelspec": {
      "name": "python3",
      "display_name": "Python 3"
    },
    "language_info": {
      "name": "python"
    },
    "accelerator": "TPU",
    "gpuClass": "standard"
  },
  "cells": [
    {
      "cell_type": "code",
      "execution_count": 19,
      "metadata": {
        "id": "EBrlxgPfXUeS"
      },
      "outputs": [],
      "source": [
        "import numpy as np\n",
        "import matplotlib.pyplot as plt\n",
        "from tensorflow import keras\n",
        "from sklearn.model_selection import train_test_split"
      ]
    },
    {
      "cell_type": "code",
      "source": [
        "from google.colab import drive\n",
        "drive.mount('/content/drive', force_remount=True)"
      ],
      "metadata": {
        "colab": {
          "base_uri": "https://localhost:8080/"
        },
        "id": "86Y1IGEXXcKp",
        "outputId": "822303ae-6861-4d08-d10f-ecc4a2fe6ffd"
      },
      "execution_count": 20,
      "outputs": [
        {
          "output_type": "stream",
          "name": "stdout",
          "text": [
            "Mounted at /content/drive\n"
          ]
        }
      ]
    },
    {
      "cell_type": "code",
      "source": [
        "imgs = np.load('/content/drive/MyDrive/images.npy')\n",
        "lbls = np.load('/content/drive/MyDrive/labels.npy')\n",
        "\n",
        "print(lbls.shape)"
      ],
      "metadata": {
        "colab": {
          "base_uri": "https://localhost:8080/"
        },
        "id": "879YJUvGXewo",
        "outputId": "0db8f4a6-24dd-416a-ac6f-bd862bda6838"
      },
      "execution_count": 35,
      "outputs": [
        {
          "output_type": "stream",
          "name": "stdout",
          "text": [
            "(18000, 2)\n"
          ]
        }
      ]
    },
    {
      "cell_type": "code",
      "source": [
        "def process_labels(labels):\n",
        "  index = 0\n",
        "  for lbl in labels:\n",
        "    i = 1 if lbl[1]<30 else 2\n",
        "    labels[index] = lbl[0] * 2 + i\n",
        "    index+=1\n",
        "  return labels\n",
        "lbls = process_labels(lbls)\n",
        "lbls = lbls[:,1]/1.0\n",
        "print(lbls)"
      ],
      "metadata": {
        "colab": {
          "base_uri": "https://localhost:8080/"
        },
        "id": "teRBPUIOXhq5",
        "outputId": "e2f475ff-10df-4ba7-bd3a-19f2af62e260"
      },
      "execution_count": 22,
      "outputs": [
        {
          "output_type": "stream",
          "name": "stdout",
          "text": [
            "[ 1.  1.  1. ... 24. 24. 24.]\n"
          ]
        }
      ]
    },
    {
      "cell_type": "code",
      "source": [
        "imgs_train,imgs_test,lbls_train,lbls_test = train_test_split(imgs, lbls, train_size=0.8, random_state=42)\n",
        "X_valid, X_train = imgs_train[:5000] / 255.0, imgs_train[5000:] / 255.0\n",
        "y_valid, y_train = lbls_train[:5000] , lbls_train[5000:] "
      ],
      "metadata": {
        "id": "6KD_M6iYXjpK"
      },
      "execution_count": 23,
      "outputs": []
    },
    {
      "cell_type": "code",
      "source": [
        "def create_model():\n",
        "  model = keras.models.Sequential([\n",
        "    keras.layers.Input(shape=(150, 150, 1)),\n",
        "    keras.layers.Conv2D(32, kernel_size=3, strides = 2, activation='relu',padding='same'),\n",
        "    keras.layers.Conv2D(32, kernel_size=3, strides = 2, activation='relu',padding='same'),\n",
        "    keras.layers.BatchNormalization(),\n",
        "    keras.layers.MaxPool2D(pool_size=3, strides=2, padding=\"SAME\"),\n",
        "    keras.layers.Conv2D(64, kernel_size=3, strides = 2, activation='relu',padding='same'),\n",
        "    keras.layers.Conv2D(64, kernel_size=3, strides = 2, activation='relu',padding='same'),\n",
        "    keras.layers.BatchNormalization(),\n",
        "    keras.layers.MaxPool2D(pool_size=3, strides=2, padding=\"SAME\"),\n",
        "    keras.layers.Conv2D(128, kernel_size=3, strides = 2, activation='relu',padding='same'),\n",
        "    keras.layers.Conv2D(128, kernel_size=3, strides = 2, activation='relu',padding='same'),\n",
        "    keras.layers.BatchNormalization(),\n",
        "    keras.layers.MaxPool2D(pool_size=3, strides=2, padding=\"SAME\"),\n",
        "    keras.layers.Conv2D(256, kernel_size=3, strides = 2, activation='relu',padding='same'),\n",
        "    keras.layers.Conv2D(256, kernel_size=3, strides = 2, activation='relu',padding='same'),\n",
        "    keras.layers.BatchNormalization(),\n",
        "    keras.layers.MaxPool2D(pool_size=3, strides=2, padding=\"SAME\"),\n",
        "    keras.layers.Flatten(),\n",
        "    keras.layers.Dense(units=128, activation='relu'),\n",
        "    keras.layers.Dropout(0.5),\n",
        "    keras.layers.Dense(units=64, activation='relu'),\n",
        "    keras.layers.Dropout(0.5),\n",
        "    keras.layers.Dense(units=25, activation='softmax'),\n",
        "  ])\n",
        "  return model"
      ],
      "metadata": {
        "id": "5coksMgfXsIw"
      },
      "execution_count": 25,
      "outputs": []
    },
    {
      "cell_type": "code",
      "source": [],
      "metadata": {
        "id": "M6aU3ooBm4Ae"
      },
      "execution_count": null,
      "outputs": []
    },
    {
      "cell_type": "code",
      "source": [
        "model = create_model()\n",
        "model.compile(loss= \"sparse_categorical_crossentropy\",\n",
        "            optimizer=\"sgd\",\n",
        "            metrics= 'accuracy'\n",
        "            )"
      ],
      "metadata": {
        "id": "r5g-aXZPZFfO"
      },
      "execution_count": 36,
      "outputs": []
    },
    {
      "cell_type": "code",
      "source": [
        "history = model.fit(X_train, y_train, epochs=200,\n",
        " validation_data=(X_valid, y_valid))"
      ],
      "metadata": {
        "colab": {
          "base_uri": "https://localhost:8080/"
        },
        "id": "09m4MYaQZIH-",
        "outputId": "438a6791-29ee-4fcb-f531-34ae2ae8db6a"
      },
      "execution_count": null,
      "outputs": [
        {
          "output_type": "stream",
          "name": "stdout",
          "text": [
            "Epoch 1/200\n",
            "294/294 [==============================] - ETA: 0s - loss: 3.3373 - accuracy: 0.0432"
          ]
        }
      ]
    },
    {
      "cell_type": "code",
      "source": [
        "X_new = imgs_test[:3]\n",
        "y_proba = model.predict(X_new)\n",
        "print(y_proba.round(2))"
      ],
      "metadata": {
        "colab": {
          "base_uri": "https://localhost:8080/"
        },
        "id": "dgRpolt1ZLp2",
        "outputId": "b264e1f5-11d8-459a-9d01-65056b8337d4"
      },
      "execution_count": 10,
      "outputs": [
        {
          "output_type": "stream",
          "name": "stdout",
          "text": [
            "1/1 [==============================] - 0s 292ms/step\n",
            "[[0. 0. 0. 0. 0. 0. 0. 1. 0. 0. 0. 0. 0. 0. 0. 0. 0. 0. 0. 0. 0. 0. 0. 0.\n",
            "  0.]\n",
            " [0. 0. 0. 0. 0. 0. 0. 1. 0. 0. 0. 0. 0. 0. 0. 0. 0. 0. 0. 0. 0. 0. 0. 0.\n",
            "  0.]\n",
            " [0. 0. 0. 0. 0. 0. 0. 1. 0. 0. 0. 0. 0. 0. 0. 0. 0. 0. 0. 0. 0. 0. 0. 0.\n",
            "  0.]]\n"
          ]
        }
      ]
    }
  ]
}