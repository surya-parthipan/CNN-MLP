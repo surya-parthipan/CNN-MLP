{
 "cells": [
  {
   "cell_type": "code",
   "execution_count": 1,
   "metadata": {},
   "outputs": [],
   "source": [
    "from __future__ import print_function\n",
    "import tensorflow as tf\n",
    "import keras\n",
    "from keras.datasets import mnist\n",
    "from keras.models import Sequential\n",
    "from keras.layers import Dense, Dropout\n",
    "from keras.optimizers import RMSprop\n"
   ]
  },
  {
   "cell_type": "code",
   "execution_count": 2,
   "metadata": {},
   "outputs": [],
   "source": [
    "batch_size = 128\n",
    "num_classes = 10\n",
    "epochs = 20"
   ]
  },
  {
   "cell_type": "code",
   "execution_count": 3,
   "metadata": {},
   "outputs": [],
   "source": [
    "CIFAR_10 = tf.keras.datasets.cifar10.load_data()\n",
    "(x_train, y_train), (x_test, y_test) = CIFAR_10"
   ]
  },
  {
   "cell_type": "code",
   "execution_count": 4,
   "metadata": {},
   "outputs": [],
   "source": [
    "def data_reshape(dataset, *size):\n",
    "    return dataset.reshape(size)"
   ]
  },
  {
   "cell_type": "code",
   "execution_count": 5,
   "metadata": {},
   "outputs": [
    {
     "data": {
      "text/plain": [
       "(50000, 32, 32, 3)"
      ]
     },
     "execution_count": 5,
     "metadata": {},
     "output_type": "execute_result"
    }
   ],
   "source": [
    "x_train.shape"
   ]
  },
  {
   "cell_type": "code",
   "execution_count": 7,
   "metadata": {},
   "outputs": [
    {
     "name": "stdout",
     "output_type": "stream",
     "text": [
      "50000 train samples\n",
      "10000 test samples\n"
     ]
    }
   ],
   "source": [
    "x_train = data_reshape(x_train, x_train.shape[0],3072)\n",
    "x_test = data_reshape(x_test, x_test.shape[0], 3072)\n",
    "x_train = x_train.astype(\"float32\")\n",
    "x_test = x_test.astype(\"float32\")\n",
    "x_train /= 255\n",
    "x_test /= 255\n",
    "print(x_train.shape[0], \"train samples\")\n",
    "print(x_test.shape[0], \"test samples\")"
   ]
  },
  {
   "cell_type": "code",
   "execution_count": 8,
   "metadata": {},
   "outputs": [],
   "source": [
    "# convert class vectors to binary class matrices\n",
    "y_train = keras.utils.to_categorical(y_train, num_classes)\n",
    "y_test = keras.utils.to_categorical(y_test, num_classes)"
   ]
  },
  {
   "cell_type": "code",
   "execution_count": 12,
   "metadata": {},
   "outputs": [
    {
     "name": "stdout",
     "output_type": "stream",
     "text": [
      "Model: \"sequential_1\"\n",
      "_________________________________________________________________\n",
      " Layer (type)                Output Shape              Param #   \n",
      "=================================================================\n",
      " dense_3 (Dense)             (None, 512)               1573376   \n",
      "                                                                 \n",
      " dropout_2 (Dropout)         (None, 512)               0         \n",
      "                                                                 \n",
      " dense_4 (Dense)             (None, 512)               262656    \n",
      "                                                                 \n",
      " dropout_3 (Dropout)         (None, 512)               0         \n",
      "                                                                 \n",
      " dense_5 (Dense)             (None, 10)                5130      \n",
      "                                                                 \n",
      "=================================================================\n",
      "Total params: 1,841,162\n",
      "Trainable params: 1,841,162\n",
      "Non-trainable params: 0\n",
      "_________________________________________________________________\n"
     ]
    }
   ],
   "source": [
    "model = Sequential()\n",
    "model.add(Dense(512, activation='relu', input_shape=(3072,)))\n",
    "model.add(Dropout(0.2))\n",
    "model.add(Dense(512, activation='relu'))\n",
    "model.add(Dropout(0.2))\n",
    "model.add(Dense(num_classes, activation='softmax'))\n",
    "\n",
    "model.summary()\n"
   ]
  },
  {
   "cell_type": "code",
   "execution_count": 13,
   "metadata": {},
   "outputs": [
    {
     "name": "stdout",
     "output_type": "stream",
     "text": [
      "Epoch 1/20\n",
      "391/391 [==============================] - 16s 36ms/step - loss: 2.1508 - accuracy: 0.2513 - val_loss: 1.9697 - val_accuracy: 0.2799\n",
      "Epoch 2/20\n",
      "391/391 [==============================] - 14s 35ms/step - loss: 1.8502 - accuracy: 0.3331 - val_loss: 1.7471 - val_accuracy: 0.3644\n",
      "Epoch 3/20\n",
      "391/391 [==============================] - 14s 35ms/step - loss: 1.7748 - accuracy: 0.3635 - val_loss: 1.6528 - val_accuracy: 0.4196\n",
      "Epoch 4/20\n",
      "391/391 [==============================] - 14s 35ms/step - loss: 1.7223 - accuracy: 0.3836 - val_loss: 1.6546 - val_accuracy: 0.4133\n",
      "Epoch 5/20\n",
      "391/391 [==============================] - 14s 35ms/step - loss: 1.6851 - accuracy: 0.3985 - val_loss: 1.5980 - val_accuracy: 0.4406\n",
      "Epoch 6/20\n",
      "391/391 [==============================] - 14s 37ms/step - loss: 1.6582 - accuracy: 0.4051 - val_loss: 1.5880 - val_accuracy: 0.4378\n",
      "Epoch 7/20\n",
      "391/391 [==============================] - 51s 130ms/step - loss: 1.6293 - accuracy: 0.4179 - val_loss: 1.5945 - val_accuracy: 0.4233\n",
      "Epoch 8/20\n",
      "391/391 [==============================] - 13s 32ms/step - loss: 1.6129 - accuracy: 0.4251 - val_loss: 1.5750 - val_accuracy: 0.4412\n",
      "Epoch 9/20\n",
      "391/391 [==============================] - 13s 33ms/step - loss: 1.5904 - accuracy: 0.4307 - val_loss: 1.5632 - val_accuracy: 0.4524\n",
      "Epoch 10/20\n",
      "391/391 [==============================] - 12s 31ms/step - loss: 1.5800 - accuracy: 0.4340 - val_loss: 1.5133 - val_accuracy: 0.4629\n",
      "Epoch 11/20\n",
      "391/391 [==============================] - 12s 30ms/step - loss: 1.5693 - accuracy: 0.4402 - val_loss: 1.5342 - val_accuracy: 0.4475\n",
      "Epoch 12/20\n",
      "391/391 [==============================] - 14s 35ms/step - loss: 1.5583 - accuracy: 0.4437 - val_loss: 1.5196 - val_accuracy: 0.4667\n",
      "Epoch 13/20\n",
      "391/391 [==============================] - 12s 31ms/step - loss: 1.5440 - accuracy: 0.4496 - val_loss: 1.5359 - val_accuracy: 0.4580\n",
      "Epoch 14/20\n",
      "391/391 [==============================] - 9s 22ms/step - loss: 1.5414 - accuracy: 0.4509 - val_loss: 1.4898 - val_accuracy: 0.4768\n",
      "Epoch 15/20\n",
      "391/391 [==============================] - 8s 21ms/step - loss: 1.5284 - accuracy: 0.4562 - val_loss: 1.4737 - val_accuracy: 0.4872\n",
      "Epoch 16/20\n",
      "391/391 [==============================] - 8s 21ms/step - loss: 1.5208 - accuracy: 0.4595 - val_loss: 1.5228 - val_accuracy: 0.4502\n",
      "Epoch 17/20\n",
      "391/391 [==============================] - 9s 22ms/step - loss: 1.5149 - accuracy: 0.4601 - val_loss: 1.5160 - val_accuracy: 0.4752\n",
      "Epoch 18/20\n",
      "391/391 [==============================] - 9s 23ms/step - loss: 1.5109 - accuracy: 0.4632 - val_loss: 1.5034 - val_accuracy: 0.4674\n",
      "Epoch 19/20\n",
      "391/391 [==============================] - 9s 22ms/step - loss: 1.5030 - accuracy: 0.4673 - val_loss: 1.4900 - val_accuracy: 0.4676\n",
      "Epoch 20/20\n",
      "391/391 [==============================] - 8s 21ms/step - loss: 1.4942 - accuracy: 0.4680 - val_loss: 1.4997 - val_accuracy: 0.4646\n"
     ]
    }
   ],
   "source": [
    "\n",
    "model.compile(loss='categorical_crossentropy',\n",
    "              optimizer=RMSprop(),\n",
    "              metrics=['accuracy'])\n",
    "\n",
    "history = model.fit(x_train, y_train,\n",
    "                    batch_size=batch_size,\n",
    "                    epochs=epochs,\n",
    "                    verbose=1,\n",
    "                    validation_data=(x_test, y_test))\n"
   ]
  },
  {
   "cell_type": "code",
   "execution_count": 8,
   "metadata": {},
   "outputs": [
    {
     "name": "stdout",
     "output_type": "stream",
     "text": [
      "Test loss: 0.43411484360694885\n",
      "Test accuracy: 0.8838000297546387\n"
     ]
    }
   ],
   "source": [
    "score = model.evaluate(x_test, y_test, verbose=0)\n",
    "print('Test loss:', score[0])\n",
    "print('Test accuracy:', score[1])"
   ]
  }
 ],
 "metadata": {
  "kernelspec": {
   "display_name": "Python 3.10.8 64-bit",
   "language": "python",
   "name": "python3"
  },
  "language_info": {
   "codemirror_mode": {
    "name": "ipython",
    "version": 3
   },
   "file_extension": ".py",
   "mimetype": "text/x-python",
   "name": "python",
   "nbconvert_exporter": "python",
   "pygments_lexer": "ipython3",
   "version": "3.10.8"
  },
  "orig_nbformat": 4,
  "vscode": {
   "interpreter": {
    "hash": "989f1c85a0753a3f5387357a9d8cdada932b18385ad81a9223bb8329c9a4fd3b"
   }
  }
 },
 "nbformat": 4,
 "nbformat_minor": 2
}
