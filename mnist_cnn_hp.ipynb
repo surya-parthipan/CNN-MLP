{
 "cells": [
  {
   "cell_type": "code",
   "execution_count": 1,
   "metadata": {},
   "outputs": [],
   "source": [
    "import tensorflow as tf\n",
    "from tensorflow import keras\n",
    "import keras_tuner as kt\n",
    "import matplotlib.pyplot as plt\n",
    "import numpy as np"
   ]
  },
  {
   "cell_type": "code",
   "execution_count": 2,
   "metadata": {},
   "outputs": [],
   "source": [
    "fashion_mnist = tf.keras.datasets.fashion_mnist.load_data()\n",
    "(X_train_full, y_train_full), (X_test, y_test) = fashion_mnist"
   ]
  },
  {
   "cell_type": "code",
   "execution_count": 3,
   "metadata": {},
   "outputs": [],
   "source": [
    "batch_size = 128\n",
    "num_classes = 10\n",
    "epochs = 15\n",
    "# input image dimensions\n",
    "img_rows, img_cols = 28, 28\n",
    "input_shape = (img_rows, img_cols, 1)"
   ]
  },
  {
   "cell_type": "code",
   "execution_count": 4,
   "metadata": {},
   "outputs": [
    {
     "data": {
      "text/plain": [
       "<matplotlib.colorbar.Colorbar at 0x2714972f160>"
      ]
     },
     "execution_count": 4,
     "metadata": {},
     "output_type": "execute_result"
    },
    {
     "data": {
      "image/png": "[encoded data removed]",
      "text/plain": [
       "<Figure size 640x480 with 2 Axes>"
      ]
     },
     "metadata": {},
     "output_type": "display_data"
    }
   ],
   "source": [
    "plt.figure()\n",
    "plt.imshow(X_train_full[0])\n",
    "plt.colorbar()"
   ]
  },
  {
   "cell_type": "code",
   "execution_count": 5,
   "metadata": {},
   "outputs": [],
   "source": [
    "X_train_full = X_train_full.astype(\"float32\") / 255\n",
    "X_test = X_test.astype(\"float32\") / 255\n",
    "X_train_full = np.expand_dims(X_train_full, -1)\n",
    "X_test = np.expand_dims(X_test, -1)"
   ]
  },
  {
   "cell_type": "code",
   "execution_count": 6,
   "metadata": {},
   "outputs": [],
   "source": [
    "X_train, y_train = X_train_full[:-5000], y_train_full[:-5000]\n",
    "X_valid, y_valid = X_train_full[-5000:], y_train_full[-5000:]"
   ]
  },
  {
   "cell_type": "code",
   "execution_count": 7,
   "metadata": {},
   "outputs": [],
   "source": [
    "# y_train = keras.utils.to_categorical(y_train, num_classes)  # type: ignore\n",
    "# y_valid = keras.utils.to_categorical(y_valid, num_classes)\n",
    "# y_test = keras.utils.to_categorical(y_test, num_classes)"
   ]
  },
  {
   "cell_type": "code",
   "execution_count": 8,
   "metadata": {},
   "outputs": [],
   "source": [
    "tf.keras.backend.clear_session()\n",
    "tf.random.set_seed(42)"
   ]
  },
  {
   "cell_type": "code",
   "execution_count": 11,
   "metadata": {},
   "outputs": [],
   "source": [
    "def build_model(hp):\n",
    "    n_hidden = hp.Int(\"n_hidden\", min_value=0, max_value=3)\n",
    "    n_neurons = hp.Int(\"n_neurons\", min_value=32, max_value=128, step=32)\n",
    "    learning_rate = hp.Float(\"learning_rate\", min_value=1e-4, max_value=1e-2, sampling=\"log\")\n",
    "    kernel_list = hp.Choice(\"kernel_initializer\", values=[\"random_normal\", \"random_uniform\", \"zeros\", \"ones\", \"glorot_normal\", \"glorot_uniform\"])\n",
    "    optimizer = hp.Choice(\"optimizer\", values=[\"sgd\", \"adam\", \"adadelta\", \"rmsprop\", \"adamax\", \"adagrad\"])\n",
    "    activation_list = hp.Choice(\"activation\", values=['relu', 'softmax', 'tanh', 'sigmoid'])\n",
    "    drop_out = hp.Float(\"drop_out\", min_value=.2, max_value=1)\n",
    "    # pool_size = hp.Int(\"pool_size\", min_value=2, max_value=2)\n",
    "    # kernel_size = hp.Int(\"kernel_size\", min_value=2, max_value=3)\n",
    "    input_shape = (28, 28, 1)\n",
    "    if optimizer == \"sgd\":\n",
    "        optimizer = tf.keras.optimizers.SGD(learning_rate=learning_rate)\n",
    "    elif optimizer == \"adam\":\n",
    "        optimizer = tf.keras.optimizers.Adam(learning_rate=learning_rate)\n",
    "    elif optimizer == \"adadelta\":\n",
    "        optimizer = tf.keras.optimizers.Adadelta(learning_rate=learning_rate)\n",
    "    elif optimizer == \"rmsprop\":\n",
    "        optimizer = tf.keras.optimizers.RMSprop(learning_rate=learning_rate)\n",
    "    elif optimizer == \"adamax\":\n",
    "        optimizer = tf.keras.optimizers.Adamax(learning_rate=learning_rate)\n",
    "    else:\n",
    "        optimizer = tf.keras.optimizers.Adagrad(learning_rate=learning_rate)\n",
    "        \n",
    "    model = tf.keras.Sequential()\n",
    "    # model.add(tf.keras.layers.Flatten())\n",
    "    for _ in range(n_hidden):\n",
    "        model.add(tf.keras.layers.Conv2D(n_neurons, kernel_size=(3,3), activation=activation_list, kernel_initializer=kernel_list, input_shape=(28, 28, 1)))\n",
    "        model.add(tf.keras.layers.MaxPooling2D(pool_size=(2, 2)))\n",
    "        model.add(tf.keras.layers.Dropout(drop_out))\n",
    "    model.add(tf.keras.layers.Flatten())\n",
    "    model.add(tf.keras.layers.Dense(10, activation=\"softmax\"))\n",
    "    model.compile(loss=\"sparse_categorical_crossentropy\", optimizer=optimizer,\n",
    "                  metrics=[\"accuracy\"])\n",
    "    return model"
   ]
  },
  {
   "cell_type": "code",
   "execution_count": 12,
   "metadata": {},
   "outputs": [
    {
     "name": "stdout",
     "output_type": "stream",
     "text": [
      "Trial 10 Complete [00h 36m 48s]\n",
      "val_accuracy: 0.10012000054121017\n",
      "\n",
      "Best val_accuracy So Far: 0.8782400131225586\n",
      "Total elapsed time: 03h 48m 59s\n",
      "INFO:tensorflow:Oracle triggered exit\n"
     ]
    }
   ],
   "source": [
    "random_search_tuner = kt.RandomSearch(\n",
    "    build_model, \n",
    "    objective=\"val_accuracy\", \n",
    "    max_trials=10,\n",
    "    executions_per_trial=5,\n",
    "    overwrite=True,\n",
    "    directory=\"my_fashion_mnist\", \n",
    "    project_name=\"HP_Fashion_MNIST\", \n",
    "    seed=42)\n",
    "\n",
    "random_search_tuner.search(X_train, y_train, epochs=10,\n",
    "                           validation_data=(X_valid, y_valid))"
   ]
  },
  {
   "cell_type": "code",
   "execution_count": 13,
   "metadata": {},
   "outputs": [],
   "source": [
    "top3_models = random_search_tuner.get_best_models(num_models=5)\n",
    "best_model = top3_models[0]"
   ]
  },
  {
   "cell_type": "code",
   "execution_count": 14,
   "metadata": {},
   "outputs": [
    {
     "name": "stdout",
     "output_type": "stream",
     "text": [
      "Top Param 0 : \n",
      " {'n_hidden': 2, 'n_neurons': 64, 'learning_rate': 0.0038287047044982298, 'kernel_initializer': 'random_uniform', 'optimizer': 'rmsprop', 'activation': 'relu', 'drop_out': 0.36293635793684126}\n",
      "\n",
      "Top Param 1 : \n",
      " {'n_hidden': 0, 'n_neurons': 64, 'learning_rate': 0.006678619769811224, 'kernel_initializer': 'glorot_normal', 'optimizer': 'adamax', 'activation': 'tanh', 'drop_out': 0.35562979834654485}\n",
      "\n",
      "Top Param 2 : \n",
      " {'n_hidden': 0, 'n_neurons': 64, 'learning_rate': 0.0003069273045576997, 'kernel_initializer': 'zeros', 'optimizer': 'adamax', 'activation': 'softmax', 'drop_out': 0.27227188341547964}\n",
      "\n",
      "Top Param 3 : \n",
      " {'n_hidden': 1, 'n_neurons': 64, 'learning_rate': 0.000195586335667274, 'kernel_initializer': 'glorot_normal', 'optimizer': 'adam', 'activation': 'sigmoid', 'drop_out': 0.9679687441559643}\n",
      "\n",
      "Top Param 4 : \n",
      " {'n_hidden': 1, 'n_neurons': 64, 'learning_rate': 0.0006752863927347823, 'kernel_initializer': 'random_normal', 'optimizer': 'sgd', 'activation': 'sigmoid', 'drop_out': 0.7473927619296588}\n",
      "\n"
     ]
    }
   ],
   "source": [
    "top3_params = random_search_tuner.get_best_hyperparameters(num_trials=5)\n",
    "for i in range(len(top3_params)):\n",
    "    print(f'Top Param {i} : \\n {top3_params[i].values}\\n')  # best hyperparameter values"
   ]
  },
  {
   "cell_type": "code",
   "execution_count": 15,
   "metadata": {},
   "outputs": [
    {
     "name": "stdout",
     "output_type": "stream",
     "text": [
      "Best Train 0\n",
      "Trial summary\n",
      "Hyperparameters:\n",
      "n_hidden: 2\n",
      "n_neurons: 64\n",
      "learning_rate: 0.0038287047044982298\n",
      "kernel_initializer: random_uniform\n",
      "optimizer: rmsprop\n",
      "activation: relu\n",
      "drop_out: 0.36293635793684126\n",
      "Score: 0.8782400131225586\n",
      "--------------\n",
      "Best Train 1\n",
      "Trial summary\n",
      "Hyperparameters:\n",
      "n_hidden: 0\n",
      "n_neurons: 64\n",
      "learning_rate: 0.006678619769811224\n",
      "kernel_initializer: glorot_normal\n",
      "optimizer: adamax\n",
      "activation: tanh\n",
      "drop_out: 0.35562979834654485\n",
      "Score: 0.8592000126838684\n",
      "--------------\n",
      "Best Train 2\n",
      "Trial summary\n",
      "Hyperparameters:\n",
      "n_hidden: 0\n",
      "n_neurons: 64\n",
      "learning_rate: 0.0003069273045576997\n",
      "kernel_initializer: zeros\n",
      "optimizer: adamax\n",
      "activation: softmax\n",
      "drop_out: 0.27227188341547964\n",
      "Score: 0.839799988269806\n",
      "--------------\n",
      "Best Train 3\n",
      "Trial summary\n",
      "Hyperparameters:\n",
      "n_hidden: 1\n",
      "n_neurons: 64\n",
      "learning_rate: 0.000195586335667274\n",
      "kernel_initializer: glorot_normal\n",
      "optimizer: adam\n",
      "activation: sigmoid\n",
      "drop_out: 0.9679687441559643\n",
      "Score: 0.8072399973869324\n",
      "--------------\n",
      "Best Train 4\n",
      "Trial summary\n",
      "Hyperparameters:\n",
      "n_hidden: 1\n",
      "n_neurons: 64\n",
      "learning_rate: 0.0006752863927347823\n",
      "kernel_initializer: random_normal\n",
      "optimizer: sgd\n",
      "activation: sigmoid\n",
      "drop_out: 0.7473927619296588\n",
      "Score: 0.7311200022697448\n",
      "--------------\n"
     ]
    }
   ],
   "source": [
    "best_trial= random_search_tuner.oracle.get_best_trials(num_trials=5)\n",
    "for i in range(len(best_trial)):\n",
    "    print(f'Best Train {i}')\n",
    "    best_trial[i].summary()\n",
    "    print(f'--------------')"
   ]
  },
  {
   "cell_type": "code",
   "execution_count": 16,
   "metadata": {},
   "outputs": [
    {
     "data": {
      "text/plain": [
       "0.8782400131225586"
      ]
     },
     "execution_count": 16,
     "metadata": {},
     "output_type": "execute_result"
    }
   ],
   "source": [
    "best_trial[0].metrics.get_last_value(\"val_accuracy\")"
   ]
  },
  {
   "cell_type": "code",
   "execution_count": 17,
   "metadata": {},
   "outputs": [
    {
     "name": "stdout",
     "output_type": "stream",
     "text": [
      "Epoch 1/10\n",
      "1875/1875 [==============================] - 35s 19ms/step - loss: 0.4054 - accuracy: 0.8567\n",
      "Epoch 2/10\n",
      "1875/1875 [==============================] - 35s 19ms/step - loss: 0.4043 - accuracy: 0.8579\n",
      "Epoch 3/10\n",
      "1875/1875 [==============================] - 35s 19ms/step - loss: 0.4048 - accuracy: 0.8573\n",
      "Epoch 4/10\n",
      "1875/1875 [==============================] - 35s 19ms/step - loss: 0.4150 - accuracy: 0.8518\n",
      "Epoch 5/10\n",
      "1875/1875 [==============================] - 35s 19ms/step - loss: 0.4118 - accuracy: 0.8531\n",
      "Epoch 6/10\n",
      "1875/1875 [==============================] - 35s 19ms/step - loss: 0.4150 - accuracy: 0.8524\n",
      "Epoch 7/10\n",
      "1875/1875 [==============================] - 35s 19ms/step - loss: 0.4216 - accuracy: 0.8504\n",
      "Epoch 8/10\n",
      "1875/1875 [==============================] - 35s 19ms/step - loss: 0.4263 - accuracy: 0.8489\n",
      "Epoch 9/10\n",
      "1875/1875 [==============================] - 35s 19ms/step - loss: 0.4239 - accuracy: 0.8494\n",
      "Epoch 10/10\n",
      "1875/1875 [==============================] - 35s 19ms/step - loss: 0.4303 - accuracy: 0.8484\n",
      "313/313 [==============================] - 2s 5ms/step - loss: 0.5136 - accuracy: 0.8416\n"
     ]
    }
   ],
   "source": [
    "best_model.fit(X_train_full, y_train_full, epochs=10)\n",
    "test_loss, test_accuracy = best_model.evaluate(X_test, y_test)"
   ]
  },
  {
   "cell_type": "markdown",
   "metadata": {},
   "source": [
    "**CIFAR10 fitting on top 3 model of Hyperparameter Tuning of Fashion MNIST CNN**"
   ]
  },
  {
   "cell_type": "code",
   "execution_count": 2,
   "metadata": {},
   "outputs": [],
   "source": [
    "cifar_10 = tf.keras.datasets.cifar10.load_data()\n",
    "(x_train, y_train), (x_test, y_test) = cifar_10"
   ]
  },
  {
   "cell_type": "code",
   "execution_count": 3,
   "metadata": {},
   "outputs": [
    {
     "name": "stdout",
     "output_type": "stream",
     "text": [
      "x_train shape: (50000, 32, 32, 3)\n",
      "50000 train samples\n",
      "10000 test samples\n"
     ]
    }
   ],
   "source": [
    "x_train = x_train.astype('float32')/255\n",
    "x_test = x_test.astype('float32')/255\n",
    "print('x_train shape:', x_train.shape)\n",
    "print(x_train.shape[0], 'train samples')\n",
    "print(x_test.shape[0], 'test samples') "
   ]
  },
  {
   "cell_type": "code",
   "execution_count": 20,
   "metadata": {},
   "outputs": [],
   "source": [
    "# convert class vectors to binary class matrices\n",
    "y_train = keras.utils.to_categorical(y_train, num_classes)  # type: ignore\n",
    "y_test = keras.utils.to_categorical(y_test, num_classes)  # type: ignore"
   ]
  },
  {
   "cell_type": "code",
   "execution_count": 5,
   "metadata": {},
   "outputs": [
    {
     "name": "stdout",
     "output_type": "stream",
     "text": [
      "Epoch 1/12\n",
      "1250/1250 [==============================] - 47s 37ms/step - loss: 1.6914 - accuracy: 0.3904 - val_loss: 1.4277 - val_accuracy: 0.4983\n",
      "Epoch 2/12\n",
      "1250/1250 [==============================] - 50s 40ms/step - loss: 1.3667 - accuracy: 0.5178 - val_loss: 1.2605 - val_accuracy: 0.5696\n",
      "Epoch 3/12\n",
      "1250/1250 [==============================] - 50s 40ms/step - loss: 1.2411 - accuracy: 0.5656 - val_loss: 1.1460 - val_accuracy: 0.6128\n",
      "Epoch 4/12\n",
      "1250/1250 [==============================] - 51s 41ms/step - loss: 1.1637 - accuracy: 0.5951 - val_loss: 1.0721 - val_accuracy: 0.6352\n",
      "Epoch 5/12\n",
      "1250/1250 [==============================] - 50s 40ms/step - loss: 1.1087 - accuracy: 0.6183 - val_loss: 1.0504 - val_accuracy: 0.6403\n",
      "Epoch 6/12\n",
      "1250/1250 [==============================] - 52s 42ms/step - loss: 1.0777 - accuracy: 0.6293 - val_loss: 1.0113 - val_accuracy: 0.6577\n",
      "Epoch 7/12\n",
      "1250/1250 [==============================] - 52s 42ms/step - loss: 1.0502 - accuracy: 0.6387 - val_loss: 0.9650 - val_accuracy: 0.6696\n",
      "Epoch 8/12\n",
      "1250/1250 [==============================] - 59s 48ms/step - loss: 1.0296 - accuracy: 0.6444 - val_loss: 1.0070 - val_accuracy: 0.6498\n",
      "Epoch 9/12\n",
      "1250/1250 [==============================] - 51s 40ms/step - loss: 1.0113 - accuracy: 0.6535 - val_loss: 0.9512 - val_accuracy: 0.6763\n",
      "Epoch 10/12\n",
      "1250/1250 [==============================] - 48s 39ms/step - loss: 0.9976 - accuracy: 0.6585 - val_loss: 0.9427 - val_accuracy: 0.6882\n",
      "Epoch 11/12\n",
      "1250/1250 [==============================] - 50s 40ms/step - loss: 0.9841 - accuracy: 0.6648 - val_loss: 0.8967 - val_accuracy: 0.6937\n",
      "Epoch 12/12\n",
      "1250/1250 [==============================] - 101s 81ms/step - loss: 0.9764 - accuracy: 0.6635 - val_loss: 0.9484 - val_accuracy: 0.6777\n",
      "313/313 [==============================] - 4s 12ms/step - loss: 0.9433 - accuracy: 0.6902\n",
      "Test Loss : 0.9432815313339233 \n",
      " Test Accuracy : 69.020%\n"
     ]
    }
   ],
   "source": [
    "# Best model 1\n",
    "n_hidden = 2\n",
    "n_neurons = 64\n",
    "learning_rate = 0.0038287047044982298\n",
    "kernel_initializer = 'random_uniform'\n",
    "optimizer = 'rmsprop'\n",
    "activation = 'relu'\n",
    "drop_out = 0.36293635793684126\n",
    "# Score = 0.8782400131225586\n",
    "best_model_1 = tf.keras.Sequential()\n",
    "# best_model_1.add(tf.keras.layers.Flatten())\n",
    "for _ in range(n_hidden):\n",
    "    best_model_1.add(tf.keras.layers.Conv2D(n_neurons, kernel_size=(3,3), activation=activation, kernel_initializer=kernel_initializer, input_shape=(32, 32, 3)))\n",
    "    best_model_1.add(tf.keras.layers.MaxPooling2D(pool_size=(2, 2)))\n",
    "    best_model_1.add(tf.keras.layers.Dropout(drop_out))\n",
    "best_model_1.add(tf.keras.layers.Flatten())\n",
    "best_model_1.add(tf.keras.layers.Dense(10, activation=\"softmax\"))\n",
    "best_model_1.compile(loss=\"sparse_categorical_crossentropy\", optimizer=optimizer, metrics=[\"accuracy\"])\n",
    "\n",
    "best_model_1.fit(x_train, y_train, epochs=12, validation_split=0.2)\n",
    "test_loss, test_accuracy = best_model_1.evaluate(x_test, y_test)\n",
    "print(f'Test Loss : {test_loss} \\n Test Accuracy : {test_accuracy:.3%}')"
   ]
  },
  {
   "cell_type": "code",
   "execution_count": 10,
   "metadata": {},
   "outputs": [
    {
     "name": "stdout",
     "output_type": "stream",
     "text": [
      "Epoch 1/12\n",
      "1250/1250 [==============================] - 19s 15ms/step - loss: 1.6912 - accuracy: 0.4158 - val_loss: 1.5457 - val_accuracy: 0.4756\n",
      "Epoch 2/12\n",
      "1250/1250 [==============================] - 18s 14ms/step - loss: 1.4689 - accuracy: 0.4944 - val_loss: 1.4610 - val_accuracy: 0.5036\n",
      "Epoch 3/12\n",
      "1250/1250 [==============================] - 18s 14ms/step - loss: 1.3800 - accuracy: 0.5271 - val_loss: 1.3900 - val_accuracy: 0.5230\n",
      "Epoch 4/12\n",
      "1250/1250 [==============================] - 20s 16ms/step - loss: 1.3215 - accuracy: 0.5455 - val_loss: 1.3583 - val_accuracy: 0.5347\n",
      "Epoch 5/12\n",
      "1250/1250 [==============================] - 37s 30ms/step - loss: 1.2802 - accuracy: 0.5585 - val_loss: 1.3246 - val_accuracy: 0.5443\n",
      "Epoch 6/12\n",
      "1250/1250 [==============================] - 37s 30ms/step - loss: 1.2465 - accuracy: 0.5736 - val_loss: 1.3004 - val_accuracy: 0.5539\n",
      "Epoch 7/12\n",
      "1250/1250 [==============================] - 37s 30ms/step - loss: 1.2145 - accuracy: 0.5828 - val_loss: 1.2638 - val_accuracy: 0.5689\n",
      "Epoch 8/12\n",
      "1250/1250 [==============================] - 37s 29ms/step - loss: 1.1898 - accuracy: 0.5916 - val_loss: 1.2612 - val_accuracy: 0.5650\n",
      "Epoch 9/12\n",
      "1250/1250 [==============================] - 39s 31ms/step - loss: 1.1618 - accuracy: 0.6033 - val_loss: 1.2282 - val_accuracy: 0.5774\n",
      "Epoch 10/12\n",
      "1250/1250 [==============================] - 23s 18ms/step - loss: 1.1389 - accuracy: 0.6116 - val_loss: 1.2948 - val_accuracy: 0.5561\n",
      "Epoch 11/12\n",
      "1250/1250 [==============================] - 21s 17ms/step - loss: 1.1246 - accuracy: 0.6166 - val_loss: 1.2132 - val_accuracy: 0.5803\n",
      "Epoch 12/12\n",
      "1250/1250 [==============================] - 21s 17ms/step - loss: 1.1086 - accuracy: 0.6196 - val_loss: 1.2223 - val_accuracy: 0.5759\n",
      "313/313 [==============================] - 2s 5ms/step - loss: 1.2134 - accuracy: 0.5755\n",
      "Test Loss : 1.2134066820144653 \n",
      " Test Accuracy : 57.550%\n"
     ]
    }
   ],
   "source": [
    "# Best Model 2\n",
    "n_hidden = 1\n",
    "n_neurons = 64\n",
    "learning_rate = 0.006678619769811224\n",
    "kernel_initializer = 'glorot_normal'\n",
    "optimizer = 'adamax'\n",
    "activation = 'tanh'\n",
    "drop_out = 0.35562979834654485\n",
    "# Score = 0.8592000126838684\n",
    "best_model_2 = tf.keras.Sequential()\n",
    "# best_model_2.add(tf.keras.layers.Flatten())\n",
    "for _ in range(n_hidden):\n",
    "    best_model_2.add(tf.keras.layers.Conv2D(n_neurons, kernel_size=(3,3), activation=activation, kernel_initializer=kernel_initializer, input_shape=(32, 32, 3)))\n",
    "    best_model_2.add(tf.keras.layers.MaxPooling2D(pool_size=(2, 2)))\n",
    "    best_model_2.add(tf.keras.layers.Dropout(drop_out))\n",
    "best_model_2.add(tf.keras.layers.Flatten())\n",
    "best_model_2.add(tf.keras.layers.Dense(10, activation=\"softmax\"))\n",
    "best_model_2.compile(loss=\"sparse_categorical_crossentropy\", optimizer=optimizer, metrics=[\"accuracy\"])\n",
    "\n",
    "best_model_2.fit(x_train, y_train, epochs=12, validation_split=0.2)\n",
    "test_loss, test_accuracy = best_model_2.evaluate(x_test, y_test)\n",
    "print(f'Test Loss : {test_loss} \\n Test Accuracy : {test_accuracy:.3%}')"
   ]
  },
  {
   "cell_type": "code",
   "execution_count": 9,
   "metadata": {},
   "outputs": [
    {
     "name": "stdout",
     "output_type": "stream",
     "text": [
      "Epoch 1/12\n",
      "1250/1250 [==============================] - 30s 23ms/step - loss: 2.1436 - accuracy: 0.2228 - val_loss: 2.0054 - val_accuracy: 0.2871\n",
      "Epoch 2/12\n",
      "1250/1250 [==============================] - 29s 23ms/step - loss: 1.9278 - accuracy: 0.3268 - val_loss: 1.8750 - val_accuracy: 0.3414\n",
      "Epoch 3/12\n",
      "1250/1250 [==============================] - 29s 23ms/step - loss: 1.8365 - accuracy: 0.3617 - val_loss: 1.8119 - val_accuracy: 0.3682\n",
      "Epoch 4/12\n",
      "1250/1250 [==============================] - 31s 25ms/step - loss: 1.7851 - accuracy: 0.3792 - val_loss: 1.7718 - val_accuracy: 0.3840\n",
      "Epoch 5/12\n",
      "1250/1250 [==============================] - 32s 25ms/step - loss: 1.7442 - accuracy: 0.3944 - val_loss: 1.7362 - val_accuracy: 0.3947\n",
      "Epoch 6/12\n",
      "1250/1250 [==============================] - 32s 25ms/step - loss: 1.7088 - accuracy: 0.4068 - val_loss: 1.6976 - val_accuracy: 0.4140\n",
      "Epoch 7/12\n",
      "1250/1250 [==============================] - 32s 25ms/step - loss: 1.6723 - accuracy: 0.4200 - val_loss: 1.6703 - val_accuracy: 0.4237\n",
      "Epoch 8/12\n",
      "1250/1250 [==============================] - 35s 28ms/step - loss: 1.6393 - accuracy: 0.4325 - val_loss: 1.6404 - val_accuracy: 0.4253\n",
      "Epoch 9/12\n",
      "1250/1250 [==============================] - 35s 28ms/step - loss: 1.6010 - accuracy: 0.4428 - val_loss: 1.6024 - val_accuracy: 0.4400\n",
      "Epoch 10/12\n",
      "1250/1250 [==============================] - 194s 155ms/step - loss: 1.5641 - accuracy: 0.4555 - val_loss: 1.5585 - val_accuracy: 0.4607\n",
      "Epoch 11/12\n",
      "1250/1250 [==============================] - 160s 128ms/step - loss: 1.5297 - accuracy: 0.4646 - val_loss: 1.5275 - val_accuracy: 0.4700\n",
      "Epoch 12/12\n",
      "1250/1250 [==============================] - 31s 25ms/step - loss: 1.4995 - accuracy: 0.4765 - val_loss: 1.4983 - val_accuracy: 0.4757\n",
      "313/313 [==============================] - 3s 9ms/step - loss: 1.4768 - accuracy: 0.4773\n",
      "Test Loss : 1.4767907857894897 \n",
      " Test Accuracy : 47.730%\n"
     ]
    }
   ],
   "source": [
    "# Best Model 3\n",
    "n_hidden = 1\n",
    "n_neurons = 64\n",
    "learning_rate = 0.0003069273045576997\n",
    "kernel_initializer = 'zeros'\n",
    "optimizer = 'adamax'\n",
    "activation = 'softmax'\n",
    "drop_out = 0.27227188341547964\n",
    "# Score = 0.839799988269806\n",
    "best_model_3 = tf.keras.Sequential()\n",
    "# best_model_3.add(tf.keras.layers.Flatten())\n",
    "for _ in range(n_hidden):\n",
    "    best_model_3.add(tf.keras.layers.Conv2D(n_neurons, kernel_size=(3,3), activation=activation, kernel_initializer=kernel_initializer, input_shape=(32, 32, 3)))\n",
    "    best_model_3.add(tf.keras.layers.MaxPooling2D(pool_size=(2, 2)))\n",
    "    best_model_3.add(tf.keras.layers.Dropout(drop_out))\n",
    "best_model_3.add(tf.keras.layers.Flatten())\n",
    "best_model_3.add(tf.keras.layers.Dense(10, activation=\"softmax\"))\n",
    "best_model_3.compile(loss=\"sparse_categorical_crossentropy\", optimizer=optimizer, metrics=[\"accuracy\"])\n",
    "\n",
    "best_model_3.fit(x_train, y_train, epochs=12, validation_split=0.2)\n",
    "test_loss, test_accuracy = best_model_3.evaluate(x_test, y_test)\n",
    "print(f'Test Loss : {test_loss} \\n Test Accuracy : {test_accuracy:.3%}')"
   ]
  }
 ],
 "metadata": {
  "kernelspec": {
   "display_name": "Python 3.9.15 ('tf')",
   "language": "python",
   "name": "python3"
  },
  "language_info": {
   "codemirror_mode": {
    "name": "ipython",
    "version": 3
   },
   "file_extension": ".py",
   "mimetype": "text/x-python",
   "name": "python",
   "nbconvert_exporter": "python",
   "pygments_lexer": "ipython3",
   "version": "3.9.15"
  },
  "orig_nbformat": 4,
  "vscode": {
   "interpreter": {
    "hash": "4271d910d458382237d50acf2e0e3e88f0b9ae219d280a9e770ed735fa5ba00a"
   }
  }
 },
 "nbformat": 4,
 "nbformat_minor": 2
}
