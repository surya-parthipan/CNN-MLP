{
 "cells": [
  {
   "cell_type": "code",
   "execution_count": 1,
   "metadata": {},
   "outputs": [],
   "source": [
    "from __future__ import print_function\n",
    "import tensorflow as tf\n",
    "import keras\n",
    "from keras.datasets import mnist\n",
    "from keras.models import Sequential\n",
    "from keras.layers import Dense, Dropout, Flatten\n",
    "from keras.layers import Conv2D, MaxPooling2D\n",
    "from keras import backend as K\n",
    "import matplotlib.pyplot as plt"
   ]
  },
  {
   "cell_type": "code",
   "execution_count": 2,
   "metadata": {},
   "outputs": [],
   "source": [
    "batch_size = 128\n",
    "num_classes = 10\n",
    "epochs = 12\n",
    "\n",
    "# input image dimensions\n",
    "img_rows, img_cols = 28, 28"
   ]
  },
  {
   "cell_type": "code",
   "execution_count": 3,
   "metadata": {},
   "outputs": [],
   "source": [
    "cifar_10 = tf.keras.datasets.cifar10.load_data()\n",
    "(x_train, y_train), (x_test, y_test) = cifar_10"
   ]
  },
  {
   "cell_type": "code",
   "execution_count": 4,
   "metadata": {},
   "outputs": [
    {
     "data": {
      "text/plain": [
       "(50000, 1)"
      ]
     },
     "execution_count": 4,
     "metadata": {},
     "output_type": "execute_result"
    }
   ],
   "source": [
    "y_train.shape"
   ]
  },
  {
   "cell_type": "code",
   "execution_count": 5,
   "metadata": {},
   "outputs": [
    {
     "name": "stdout",
     "output_type": "stream",
     "text": [
      "x_train shape: (50000, 32, 32, 3)\n",
      "50000 train samples\n",
      "10000 test samples\n"
     ]
    }
   ],
   "source": [
    "x_train = x_train.astype('float32')/255\n",
    "x_test = x_test.astype('float32')/255\n",
    "print('x_train shape:', x_train.shape)\n",
    "print(x_train.shape[0], 'train samples')\n",
    "print(x_test.shape[0], 'test samples')"
   ]
  },
  {
   "cell_type": "code",
   "execution_count": 6,
   "metadata": {},
   "outputs": [],
   "source": [
    "# convert class vectors to binary class matrices\n",
    "y_train = keras.utils.to_categorical(y_train, num_classes)  # type: ignore\n",
    "y_test = keras.utils.to_categorical(y_test, num_classes)  # type: ignore"
   ]
  },
  {
   "cell_type": "code",
   "execution_count": 7,
   "metadata": {},
   "outputs": [],
   "source": [
    "model = keras.Sequential([\n",
    "    keras.layers.Conv2D(32, kernel_size=(3, 3), activation='relu', input_shape=x_train.shape[1:]),\n",
    "    keras.layers.MaxPooling2D(pool_size=(2, 2)),\n",
    "    keras.layers.Conv2D(64, kernel_size=(3, 3), activation='relu'),\n",
    "    keras.layers.MaxPooling2D(pool_size=(2, 2)),\n",
    "    keras.layers.Flatten(),\n",
    "    keras.layers.Dense(128, activation='relu'),\n",
    "    keras.layers.Dropout(0.5),\n",
    "    keras.layers.Dense(num_classes, activation='softmax'),\n",
    "])"
   ]
  },
  {
   "cell_type": "code",
   "execution_count": null,
   "metadata": {},
   "outputs": [],
   "source": [
    "model.summary()"
   ]
  },
  {
   "cell_type": "code",
   "execution_count": 8,
   "metadata": {},
   "outputs": [],
   "source": [
    "opt = keras.optimizers.RMSprop(learning_rate=0.0001, decay=1e-6)\n",
    "model.compile(\n",
    "    loss=\"categorical_crossentropy\", optimizer=opt, metrics=[\"accuracy\"]\n",
    ")"
   ]
  },
  {
   "cell_type": "code",
   "execution_count": 9,
   "metadata": {},
   "outputs": [
    {
     "name": "stdout",
     "output_type": "stream",
     "text": [
      "Epoch 1/12\n",
      "352/352 [==============================] - 12s 34ms/step - loss: 2.0600 - accuracy: 0.2511 - val_loss: 1.8398 - val_accuracy: 0.3454\n",
      "Epoch 2/12\n",
      "352/352 [==============================] - 12s 34ms/step - loss: 1.8041 - accuracy: 0.3527 - val_loss: 1.6616 - val_accuracy: 0.4132\n",
      "Epoch 3/12\n",
      "352/352 [==============================] - 12s 34ms/step - loss: 1.6889 - accuracy: 0.3928 - val_loss: 1.5631 - val_accuracy: 0.4546\n",
      "Epoch 4/12\n",
      "352/352 [==============================] - 12s 34ms/step - loss: 1.6089 - accuracy: 0.4179 - val_loss: 1.4977 - val_accuracy: 0.4744\n",
      "Epoch 5/12\n",
      "352/352 [==============================] - 12s 34ms/step - loss: 1.5544 - accuracy: 0.4404 - val_loss: 1.4574 - val_accuracy: 0.4888\n",
      "Epoch 6/12\n",
      "352/352 [==============================] - 12s 34ms/step - loss: 1.5033 - accuracy: 0.4580 - val_loss: 1.3915 - val_accuracy: 0.5130\n",
      "Epoch 7/12\n",
      "352/352 [==============================] - 12s 34ms/step - loss: 1.4677 - accuracy: 0.4755 - val_loss: 1.3604 - val_accuracy: 0.5276\n",
      "Epoch 8/12\n",
      "352/352 [==============================] - 12s 34ms/step - loss: 1.4361 - accuracy: 0.4876 - val_loss: 1.3382 - val_accuracy: 0.5300\n",
      "Epoch 9/12\n",
      "352/352 [==============================] - 12s 34ms/step - loss: 1.4067 - accuracy: 0.4981 - val_loss: 1.3056 - val_accuracy: 0.5408\n",
      "Epoch 10/12\n",
      "352/352 [==============================] - 12s 34ms/step - loss: 1.3838 - accuracy: 0.5036 - val_loss: 1.2917 - val_accuracy: 0.5478\n",
      "Epoch 11/12\n",
      "352/352 [==============================] - 12s 34ms/step - loss: 1.3597 - accuracy: 0.5154 - val_loss: 1.2579 - val_accuracy: 0.5600\n",
      "Epoch 12/12\n",
      "352/352 [==============================] - 12s 34ms/step - loss: 1.3393 - accuracy: 0.5280 - val_loss: 1.2633 - val_accuracy: 0.5572\n"
     ]
    },
    {
     "data": {
      "text/plain": [
       "<keras.callbacks.History at 0x13c9503a9e0>"
      ]
     },
     "execution_count": 9,
     "metadata": {},
     "output_type": "execute_result"
    }
   ],
   "source": [
    "model.fit(x_train, y_train,\n",
    "          batch_size=batch_size,\n",
    "          epochs=epochs,\n",
    "          validation_split=0.1)"
   ]
  },
  {
   "cell_type": "code",
   "execution_count": 10,
   "metadata": {},
   "outputs": [
    {
     "name": "stdout",
     "output_type": "stream",
     "text": [
      "Test loss: 1.2818940877914429\n",
      "Test accuracy: 0.54830002784729\n"
     ]
    }
   ],
   "source": [
    "score = model.evaluate(x_test, y_test, verbose=0)\n",
    "print('Test loss:', score[0])\n",
    "print('Test accuracy:', score[1])"
   ]
  }
 ],
 "metadata": {
  "kernelspec": {
   "display_name": "Python 3.10.8 64-bit",
   "language": "python",
   "name": "python3"
  },
  "language_info": {
   "codemirror_mode": {
    "name": "ipython",
    "version": 3
   },
   "file_extension": ".py",
   "mimetype": "text/x-python",
   "name": "python",
   "nbconvert_exporter": "python",
   "pygments_lexer": "ipython3",
   "version": "3.10.8"
  },
  "orig_nbformat": 4,
  "vscode": {
   "interpreter": {
    "hash": "989f1c85a0753a3f5387357a9d8cdada932b18385ad81a9223bb8329c9a4fd3b"
   }
  }
 },
 "nbformat": 4,
 "nbformat_minor": 2
}
