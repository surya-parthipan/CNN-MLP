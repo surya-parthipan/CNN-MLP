{
 "cells": [
  {
   "cell_type": "code",
   "execution_count": 16,
   "metadata": {},
   "outputs": [],
   "source": [
    "import tensorflow as tf\n",
    "from tensorflow import keras\n",
    "import keras_tuner as kt\n",
    "import matplotlib.pyplot as plt"
   ]
  },
  {
   "cell_type": "code",
   "execution_count": 3,
   "metadata": {},
   "outputs": [],
   "source": [
    "fashion_mnist = tf.keras.datasets.fashion_mnist.load_data()\n",
    "(X_train_full, y_train_full), (X_test, y_test) = fashion_mnist"
   ]
  },
  {
   "cell_type": "code",
   "execution_count": 4,
   "metadata": {},
   "outputs": [
    {
     "data": {
      "text/plain": [
       "<matplotlib.colorbar.Colorbar at 0x1bae9675f10>"
      ]
     },
     "execution_count": 4,
     "metadata": {},
     "output_type": "execute_result"
    },
    {
     "data": {
      "image/png": "[encoded data removed]",
      "text/plain": [
       "<Figure size 640x480 with 2 Axes>"
      ]
     },
     "metadata": {},
     "output_type": "display_data"
    }
   ],
   "source": [
    "plt.figure()\n",
    "plt.imshow(X_train_full[0])\n",
    "plt.colorbar()"
   ]
  },
  {
   "cell_type": "code",
   "execution_count": 5,
   "metadata": {},
   "outputs": [],
   "source": [
    "X_train_full = X_train_full.astype(\"float32\") / 255\n",
    "X_test = X_test.astype(\"float32\") / 255"
   ]
  },
  {
   "cell_type": "code",
   "execution_count": 6,
   "metadata": {},
   "outputs": [],
   "source": [
    "X_train, y_train = X_train_full[:-5000], y_train_full[:-5000]\n",
    "X_valid, y_valid = X_train_full[-5000:], y_train_full[-5000:]"
   ]
  },
  {
   "cell_type": "code",
   "execution_count": 7,
   "metadata": {},
   "outputs": [],
   "source": [
    "tf.keras.backend.clear_session()\n",
    "tf.random.set_seed(42)"
   ]
  },
  {
   "cell_type": "code",
   "execution_count": 7,
   "metadata": {},
   "outputs": [],
   "source": [
    "def build_model(hp):\n",
    "    n_hidden = hp.Int(\"n_hidden\", min_value=0, max_value=8, default=2)\n",
    "    n_neurons = hp.Int(\"n_neurons\", min_value=16, max_value=256)\n",
    "    learning_rate = hp.Float(\"learning_rate\", min_value=1e-4, max_value=1e-2, sampling=\"log\")\n",
    "    kernel_list = hp.Choice(\"kernel_initializer\", values=[\"random_normal\", \"random_uniform\", \"zeros\", \"ones\", \"glorot_normal\", \"glorot_uniform\"])\n",
    "    optimizer = hp.Choice(\"optimizer\", values=[\"sgd\", \"adam\", \"adadelta\", \"rmsprop\", \"adamax\", \"adagrad\"])\n",
    "    activation_list = hp.Choice(\"activation\", values=['relu', 'softmax', 'tanh', 'elu', 'sigmoid'])\n",
    "    drop_out = hp.Float(\"drop_out\", min_value=.2, max_value=1)\n",
    "    \n",
    "    if optimizer == \"sgd\":\n",
    "        optimizer = tf.keras.optimizers.SGD(learning_rate=learning_rate)\n",
    "    elif optimizer == \"adam\":\n",
    "        optimizer = tf.keras.optimizers.Adam(learning_rate=learning_rate)\n",
    "    elif optimizer == \"adadelta\":\n",
    "        optimizer = tf.keras.optimizers.Adadelta(learning_rate=learning_rate)\n",
    "    elif optimizer == \"rmsprop\":\n",
    "        optimizer = tf.keras.optimizers.RMSprop(learning_rate=learning_rate)\n",
    "    elif optimizer == \"adamax\":\n",
    "        optimizer = tf.keras.optimizers.Adamax(learning_rate=learning_rate)\n",
    "    else:\n",
    "        optimizer = tf.keras.optimizers.Adagrad(learning_rate=learning_rate)\n",
    "        \n",
    "    model = tf.keras.Sequential()\n",
    "    model.add(tf.keras.layers.Flatten())\n",
    "    for _ in range(n_hidden):\n",
    "        model.add(tf.keras.layers.Dense(n_neurons, activation=activation_list, kernel_initializer=kernel_list))\n",
    "        model.add(tf.keras.layers.Dropout(drop_out))\n",
    "    model.add(tf.keras.layers.Dense(10, activation=\"softmax\"))\n",
    "    model.compile(loss=\"sparse_categorical_crossentropy\", optimizer=optimizer,\n",
    "                  metrics=[\"accuracy\"])\n",
    "    return model"
   ]
  },
  {
   "cell_type": "code",
   "execution_count": 8,
   "metadata": {},
   "outputs": [
    {
     "name": "stdout",
     "output_type": "stream",
     "text": [
      "Trial 20 Complete [00h 02m 26s]\n",
      "val_accuracy: 0.11763999760150909\n",
      "\n",
      "Best val_accuracy So Far: 0.842960000038147\n",
      "Total elapsed time: 03h 56m 51s\n",
      "INFO:tensorflow:Oracle triggered exit\n"
     ]
    }
   ],
   "source": [
    "random_search_tuner = kt.RandomSearch(\n",
    "    build_model, \n",
    "    objective=\"val_accuracy\", \n",
    "    max_trials=20,\n",
    "    executions_per_trial=5,\n",
    "    overwrite=True,\n",
    "    directory=\"my_fashion_mnist\", \n",
    "    project_name=\"HP_Fashion_MNIST\", \n",
    "    seed=42)\n",
    "\n",
    "random_search_tuner.search(X_train, y_train, epochs=10,\n",
    "                           validation_data=(X_valid, y_valid))"
   ]
  },
  {
   "cell_type": "code",
   "execution_count": 9,
   "metadata": {},
   "outputs": [],
   "source": [
    "top3_models = random_search_tuner.get_best_models(num_models=5)\n",
    "best_model = top3_models[0]"
   ]
  },
  {
   "cell_type": "code",
   "execution_count": 10,
   "metadata": {},
   "outputs": [
    {
     "name": "stdout",
     "output_type": "stream",
     "text": [
      "Top Param 0 : \n",
      " {'n_hidden': 6, 'n_neurons': 140, 'learning_rate': 0.001462772808938758, 'kernel_initializer': 'random_uniform', 'optimizer': 'rmsprop', 'activation': 'elu', 'drop_out': 0.3066681333770488}\n",
      "\n",
      "Top Param 1 : \n",
      " {'n_hidden': 1, 'n_neurons': 117, 'learning_rate': 0.006678619769811224, 'kernel_initializer': 'glorot_normal', 'optimizer': 'adamax', 'activation': 'tanh', 'drop_out': 0.35562979834654485}\n",
      "\n",
      "Top Param 2 : \n",
      " {'n_hidden': 2, 'n_neurons': 155, 'learning_rate': 0.0009452767099282696, 'kernel_initializer': 'glorot_normal', 'optimizer': 'adagrad', 'activation': 'elu', 'drop_out': 0.2980296105401524}\n",
      "\n",
      "Top Param 3 : \n",
      " {'n_hidden': 6, 'n_neurons': 64, 'learning_rate': 0.0038287047044982298, 'kernel_initializer': 'random_uniform', 'optimizer': 'rmsprop', 'activation': 'relu', 'drop_out': 0.36293635793684126}\n",
      "\n",
      "Top Param 4 : \n",
      " {'n_hidden': 1, 'n_neurons': 135, 'learning_rate': 0.0003069273045576997, 'kernel_initializer': 'zeros', 'optimizer': 'adamax', 'activation': 'softmax', 'drop_out': 0.27227188341547964}\n",
      "\n"
     ]
    }
   ],
   "source": [
    "top3_params = random_search_tuner.get_best_hyperparameters(num_trials=5)\n",
    "for i in range(len(top3_params)):\n",
    "    print(f'Top Param {i} : \\n {top3_params[i].values}\\n')  # best hyperparameter values"
   ]
  },
  {
   "cell_type": "code",
   "execution_count": 11,
   "metadata": {},
   "outputs": [
    {
     "name": "stdout",
     "output_type": "stream",
     "text": [
      "Best Train 0\n",
      "Trial summary\n",
      "Hyperparameters:\n",
      "n_hidden: 6\n",
      "n_neurons: 140\n",
      "learning_rate: 0.001462772808938758\n",
      "kernel_initializer: random_uniform\n",
      "optimizer: rmsprop\n",
      "activation: elu\n",
      "drop_out: 0.3066681333770488\n",
      "Score: 0.842960000038147\n",
      "--------------\n",
      "Best Train 1\n",
      "Trial summary\n",
      "Hyperparameters:\n",
      "n_hidden: 1\n",
      "n_neurons: 117\n",
      "learning_rate: 0.006678619769811224\n",
      "kernel_initializer: glorot_normal\n",
      "optimizer: adamax\n",
      "activation: tanh\n",
      "drop_out: 0.35562979834654485\n",
      "Score: 0.754040002822876\n",
      "--------------\n",
      "Best Train 2\n",
      "Trial summary\n",
      "Hyperparameters:\n",
      "n_hidden: 2\n",
      "n_neurons: 155\n",
      "learning_rate: 0.0009452767099282696\n",
      "kernel_initializer: glorot_normal\n",
      "optimizer: adagrad\n",
      "activation: elu\n",
      "drop_out: 0.2980296105401524\n",
      "Score: 0.6581200003623963\n",
      "--------------\n",
      "Best Train 3\n",
      "Trial summary\n",
      "Hyperparameters:\n",
      "n_hidden: 6\n",
      "n_neurons: 64\n",
      "learning_rate: 0.0038287047044982298\n",
      "kernel_initializer: random_uniform\n",
      "optimizer: rmsprop\n",
      "activation: relu\n",
      "drop_out: 0.36293635793684126\n",
      "Score: 0.6359600067138672\n",
      "--------------\n",
      "Best Train 4\n",
      "Trial summary\n",
      "Hyperparameters:\n",
      "n_hidden: 1\n",
      "n_neurons: 135\n",
      "learning_rate: 0.0003069273045576997\n",
      "kernel_initializer: zeros\n",
      "optimizer: adamax\n",
      "activation: softmax\n",
      "drop_out: 0.27227188341547964\n",
      "Score: 0.48948000073432923\n",
      "--------------\n"
     ]
    }
   ],
   "source": [
    "best_trial= random_search_tuner.oracle.get_best_trials(num_trials=5)\n",
    "for i in range(len(best_trial)):\n",
    "    print(f'Best Train {i}')\n",
    "    best_trial[i].summary()\n",
    "    print(f'--------------')"
   ]
  },
  {
   "cell_type": "code",
   "execution_count": 16,
   "metadata": {},
   "outputs": [
    {
     "data": {
      "text/plain": [
       "0.842960000038147"
      ]
     },
     "execution_count": 16,
     "metadata": {},
     "output_type": "execute_result"
    }
   ],
   "source": [
    "best_trial[0].metrics.get_last_value(\"val_accuracy\")"
   ]
  },
  {
   "cell_type": "code",
   "execution_count": null,
   "metadata": {},
   "outputs": [],
   "source": [
    "best_model.fit(X_train_full, y_train_full, epochs=10)\n",
    "test_loss, test_accuracy = best_model.evaluate(X_test, y_test)"
   ]
  },
  {
   "cell_type": "markdown",
   "metadata": {},
   "source": [
    "**CIFAR10 fitting on top 3 model of Hyperparameter Tuning of Fashion MNIST MLP**"
   ]
  },
  {
   "cell_type": "code",
   "execution_count": 25,
   "metadata": {},
   "outputs": [],
   "source": [
    "CIFAR_10 = tf.keras.datasets.cifar10.load_data()\n",
    "(x_train, y_train), (x_test, y_test) = CIFAR_10"
   ]
  },
  {
   "cell_type": "code",
   "execution_count": 26,
   "metadata": {},
   "outputs": [],
   "source": [
    "batch_size = 128\n",
    "num_classes = 10\n",
    "epochs = 20"
   ]
  },
  {
   "cell_type": "code",
   "execution_count": 27,
   "metadata": {},
   "outputs": [],
   "source": [
    "def data_reshape(dataset, *size):\n",
    "    return dataset.reshape(size)"
   ]
  },
  {
   "cell_type": "code",
   "execution_count": 28,
   "metadata": {},
   "outputs": [
    {
     "name": "stdout",
     "output_type": "stream",
     "text": [
      "50000 train samples\n",
      "10000 test samples\n"
     ]
    }
   ],
   "source": [
    "x_train = data_reshape(x_train, x_train.shape[0],3072)\n",
    "x_test = data_reshape(x_test, x_test.shape[0], 3072)\n",
    "x_train = x_train.astype(\"float32\")\n",
    "x_test = x_test.astype(\"float32\")\n",
    "x_train /= 255\n",
    "x_test /= 255\n",
    "print(x_train.shape[0], \"train samples\")\n",
    "print(x_test.shape[0], \"test samples\")"
   ]
  },
  {
   "cell_type": "code",
   "execution_count": 29,
   "metadata": {},
   "outputs": [
    {
     "name": "stdout",
     "output_type": "stream",
     "text": [
      "50000 train samples\n",
      "10000 test samples\n"
     ]
    }
   ],
   "source": [
    "x_train = data_reshape(x_train, x_train.shape[0],3072)\n",
    "x_test = data_reshape(x_test, x_test.shape[0], 3072)\n",
    "x_train = x_train.astype(\"float32\")\n",
    "x_test = x_test.astype(\"float32\")\n",
    "x_train /= 255\n",
    "x_test /= 255\n",
    "print(x_train.shape[0], \"train samples\")\n",
    "print(x_test.shape[0], \"test samples\")"
   ]
  },
  {
   "cell_type": "code",
   "execution_count": 32,
   "metadata": {},
   "outputs": [
    {
     "name": "stdout",
     "output_type": "stream",
     "text": [
      "Epoch 1/20\n",
      "1250/1250 [==============================] - 22s 16ms/step - loss: 2.3041 - accuracy: 0.1032 - val_loss: 2.3047 - val_accuracy: 0.0952\n",
      "Epoch 2/20\n",
      "1250/1250 [==============================] - 19s 15ms/step - loss: 2.2262 - accuracy: 0.1317 - val_loss: 2.0696 - val_accuracy: 0.1989\n",
      "Epoch 3/20\n",
      "1250/1250 [==============================] - 16s 13ms/step - loss: 2.0892 - accuracy: 0.1810 - val_loss: 2.0589 - val_accuracy: 0.2002\n",
      "Epoch 4/20\n",
      "1250/1250 [==============================] - 12s 9ms/step - loss: 2.0281 - accuracy: 0.2190 - val_loss: 1.9866 - val_accuracy: 0.2454\n",
      "Epoch 5/20\n",
      "1250/1250 [==============================] - 12s 9ms/step - loss: 1.9801 - accuracy: 0.2416 - val_loss: 1.9367 - val_accuracy: 0.2647\n",
      "Epoch 6/20\n",
      "1250/1250 [==============================] - 10s 8ms/step - loss: 1.9650 - accuracy: 0.2490 - val_loss: 1.9420 - val_accuracy: 0.2588\n",
      "Epoch 7/20\n",
      "1250/1250 [==============================] - 12s 10ms/step - loss: 1.9599 - accuracy: 0.2498 - val_loss: 1.9303 - val_accuracy: 0.2652\n",
      "Epoch 8/20\n",
      "1250/1250 [==============================] - 15s 12ms/step - loss: 1.9540 - accuracy: 0.2540 - val_loss: 1.9338 - val_accuracy: 0.2700\n",
      "Epoch 9/20\n",
      "1250/1250 [==============================] - 16s 13ms/step - loss: 1.9497 - accuracy: 0.2553 - val_loss: 1.9043 - val_accuracy: 0.2889\n",
      "Epoch 10/20\n",
      "1250/1250 [==============================] - 17s 14ms/step - loss: 1.9183 - accuracy: 0.2866 - val_loss: 1.8673 - val_accuracy: 0.2989\n",
      "Epoch 11/20\n",
      "1250/1250 [==============================] - 18s 14ms/step - loss: 1.8971 - accuracy: 0.2961 - val_loss: 1.9018 - val_accuracy: 0.3052\n",
      "Epoch 12/20\n",
      "1250/1250 [==============================] - 18s 14ms/step - loss: 1.8903 - accuracy: 0.3015 - val_loss: 1.8484 - val_accuracy: 0.3264\n",
      "Epoch 13/20\n",
      "1250/1250 [==============================] - 17s 14ms/step - loss: 1.8863 - accuracy: 0.3022 - val_loss: 1.9001 - val_accuracy: 0.2969\n",
      "Epoch 14/20\n",
      "1250/1250 [==============================] - 18s 14ms/step - loss: 1.8824 - accuracy: 0.3050 - val_loss: 1.8391 - val_accuracy: 0.3311\n",
      "Epoch 15/20\n",
      "1250/1250 [==============================] - 18s 14ms/step - loss: 1.8759 - accuracy: 0.3066 - val_loss: 1.8450 - val_accuracy: 0.3209\n",
      "Epoch 16/20\n",
      "1250/1250 [==============================] - 17s 14ms/step - loss: 1.8714 - accuracy: 0.3111 - val_loss: 1.8433 - val_accuracy: 0.3254\n",
      "Epoch 17/20\n",
      "1250/1250 [==============================] - 18s 14ms/step - loss: 1.8693 - accuracy: 0.3146 - val_loss: 1.8314 - val_accuracy: 0.3405\n",
      "Epoch 18/20\n",
      "1250/1250 [==============================] - 18s 15ms/step - loss: 1.8556 - accuracy: 0.3244 - val_loss: 1.8339 - val_accuracy: 0.3313\n",
      "Epoch 19/20\n",
      "1250/1250 [==============================] - 17s 14ms/step - loss: 1.8405 - accuracy: 0.3288 - val_loss: 1.8024 - val_accuracy: 0.3351\n",
      "Epoch 20/20\n",
      "1250/1250 [==============================] - 18s 14ms/step - loss: 1.8234 - accuracy: 0.3371 - val_loss: 1.8043 - val_accuracy: 0.3390\n",
      "313/313 [==============================] - 2s 5ms/step - loss: 1.7791 - accuracy: 0.3479\n",
      "Test Loss : 1.7790613174438477 \n",
      " Test Accuracy : 34.790%\n"
     ]
    }
   ],
   "source": [
    "# Best Train 1\n",
    "n_hidden = 6\n",
    "n_neurons = 140\n",
    "learning_rate = 0.001462772808938758\n",
    "kernel_initializer ='random_uniform'\n",
    "optimizer = 'rmsprop'\n",
    "activation = 'elu'\n",
    "drop_out = 0.3066681333770488\n",
    "# Score: 0.842960000038147\n",
    "\n",
    "model = tf.keras.Sequential()\n",
    "model.add(tf.keras.layers.Flatten())\n",
    "for _ in range(n_hidden):\n",
    "    model.add(tf.keras.layers.Dense(n_neurons, activation=activation, kernel_initializer=kernel_initializer))\n",
    "    model.add(tf.keras.layers.Dropout(drop_out))\n",
    "model.add(tf.keras.layers.Dense(10, activation=\"softmax\"))\n",
    "model.compile(loss=\"sparse_categorical_crossentropy\", optimizer=optimizer,metrics=[\"accuracy\"])\n",
    "\n",
    "model.fit(x_train, y_train, epochs=epochs, validation_split=0.2)\n",
    "test_loss, test_accuracy = model.evaluate(x_test, y_test)\n",
    "print(f'Test Loss : {test_loss} \\n Test Accuracy : {test_accuracy:.3%}')"
   ]
  },
  {
   "cell_type": "code",
   "execution_count": 33,
   "metadata": {},
   "outputs": [
    {
     "name": "stdout",
     "output_type": "stream",
     "text": [
      "Epoch 1/20\n",
      "1250/1250 [==============================] - 17s 13ms/step - loss: 2.1479 - accuracy: 0.2395 - val_loss: 2.0317 - val_accuracy: 0.2933\n",
      "Epoch 2/20\n",
      "1250/1250 [==============================] - 14s 12ms/step - loss: 1.9833 - accuracy: 0.2988 - val_loss: 1.9474 - val_accuracy: 0.3172\n",
      "Epoch 3/20\n",
      "1250/1250 [==============================] - 15s 12ms/step - loss: 1.9272 - accuracy: 0.3212 - val_loss: 1.9109 - val_accuracy: 0.3218\n",
      "Epoch 4/20\n",
      "1250/1250 [==============================] - 15s 12ms/step - loss: 1.8962 - accuracy: 0.3347 - val_loss: 1.8870 - val_accuracy: 0.3449\n",
      "Epoch 5/20\n",
      "1250/1250 [==============================] - 15s 12ms/step - loss: 1.8740 - accuracy: 0.3436 - val_loss: 1.8683 - val_accuracy: 0.3453\n",
      "Epoch 6/20\n",
      "1250/1250 [==============================] - 16s 13ms/step - loss: 1.8560 - accuracy: 0.3501 - val_loss: 1.8548 - val_accuracy: 0.3620\n",
      "Epoch 7/20\n",
      "1250/1250 [==============================] - 16s 13ms/step - loss: 1.8406 - accuracy: 0.3574 - val_loss: 1.8385 - val_accuracy: 0.3603\n",
      "Epoch 8/20\n",
      "1250/1250 [==============================] - 16s 12ms/step - loss: 1.8296 - accuracy: 0.3600 - val_loss: 1.8318 - val_accuracy: 0.3659\n",
      "Epoch 9/20\n",
      "1250/1250 [==============================] - 15s 12ms/step - loss: 1.8189 - accuracy: 0.3652 - val_loss: 1.8182 - val_accuracy: 0.3680\n",
      "Epoch 10/20\n",
      "1250/1250 [==============================] - 19s 15ms/step - loss: 1.8078 - accuracy: 0.3682 - val_loss: 1.8169 - val_accuracy: 0.3621\n",
      "Epoch 11/20\n",
      "1250/1250 [==============================] - 20s 16ms/step - loss: 1.7999 - accuracy: 0.3732 - val_loss: 1.8042 - val_accuracy: 0.3688\n",
      "Epoch 12/20\n",
      "1250/1250 [==============================] - 15s 12ms/step - loss: 1.7936 - accuracy: 0.3763 - val_loss: 1.8044 - val_accuracy: 0.3737\n",
      "Epoch 13/20\n",
      "1250/1250 [==============================] - 16s 12ms/step - loss: 1.7875 - accuracy: 0.3784 - val_loss: 1.7935 - val_accuracy: 0.3762\n",
      "Epoch 14/20\n",
      "1250/1250 [==============================] - 15s 12ms/step - loss: 1.7819 - accuracy: 0.3799 - val_loss: 1.7959 - val_accuracy: 0.3783\n",
      "Epoch 15/20\n",
      "1250/1250 [==============================] - 14s 12ms/step - loss: 1.7775 - accuracy: 0.3827 - val_loss: 1.7896 - val_accuracy: 0.3795\n",
      "Epoch 16/20\n",
      "1250/1250 [==============================] - 15s 12ms/step - loss: 1.7747 - accuracy: 0.3850 - val_loss: 1.7827 - val_accuracy: 0.3812\n",
      "Epoch 17/20\n",
      "1250/1250 [==============================] - 15s 12ms/step - loss: 1.7692 - accuracy: 0.3865 - val_loss: 1.7781 - val_accuracy: 0.3837\n",
      "Epoch 18/20\n",
      "1250/1250 [==============================] - 14s 12ms/step - loss: 1.7656 - accuracy: 0.3885 - val_loss: 1.7763 - val_accuracy: 0.3825\n",
      "Epoch 19/20\n",
      "1250/1250 [==============================] - 15s 12ms/step - loss: 1.7612 - accuracy: 0.3913 - val_loss: 1.7782 - val_accuracy: 0.3825\n",
      "Epoch 20/20\n",
      "1250/1250 [==============================] - 16s 13ms/step - loss: 1.7598 - accuracy: 0.3898 - val_loss: 1.7747 - val_accuracy: 0.3860\n",
      "313/313 [==============================] - 1s 4ms/step - loss: 1.7514 - accuracy: 0.3929\n",
      "Test Loss : 1.751367211341858 \n",
      " Test Accuracy : 39.290%\n"
     ]
    }
   ],
   "source": [
    "# Best Train 1\n",
    "n_hidden = 1\n",
    "n_neurons = 117\n",
    "learning_rate = 0.006678619769811224\n",
    "kernel_initializer = 'glorot_normal'\n",
    "optimizer = 'adamax'\n",
    "activation = 'tanh'\n",
    "drop_out = 0.35562979834654485\n",
    "# Score = 0.754040002822876\n",
    "\n",
    "model = tf.keras.Sequential()\n",
    "model.add(tf.keras.layers.Flatten())\n",
    "for _ in range(n_hidden):\n",
    "    model.add(tf.keras.layers.Dense(n_neurons, activation=activation, kernel_initializer=kernel_initializer))\n",
    "    model.add(tf.keras.layers.Dropout(drop_out))\n",
    "model.add(tf.keras.layers.Dense(10, activation=\"softmax\"))\n",
    "model.compile(loss=\"sparse_categorical_crossentropy\", optimizer=optimizer,metrics=[\"accuracy\"])\n",
    "\n",
    "model.fit(x_train, y_train, epochs=epochs, validation_split=0.2)\n",
    "test_loss, test_accuracy = model.evaluate(x_test, y_test)\n",
    "print(f'Test Loss : {test_loss} \\n Test Accuracy : {test_accuracy:.3%}')"
   ]
  },
  {
   "cell_type": "code",
   "execution_count": 37,
   "metadata": {},
   "outputs": [
    {
     "name": "stdout",
     "output_type": "stream",
     "text": [
      "Epoch 1/20\n",
      "1250/1250 [==============================] - 12s 9ms/step - loss: 2.3024 - accuracy: 0.1028 - val_loss: 2.3023 - val_accuracy: 0.1124\n",
      "Epoch 2/20\n",
      "1250/1250 [==============================] - 20s 16ms/step - loss: 2.3022 - accuracy: 0.1111 - val_loss: 2.3021 - val_accuracy: 0.1003\n",
      "Epoch 3/20\n",
      "1250/1250 [==============================] - 22s 17ms/step - loss: 2.3020 - accuracy: 0.1102 - val_loss: 2.3020 - val_accuracy: 0.1122\n",
      "Epoch 4/20\n",
      "1250/1250 [==============================] - 23s 18ms/step - loss: 2.3018 - accuracy: 0.1176 - val_loss: 2.3018 - val_accuracy: 0.1046\n",
      "Epoch 5/20\n",
      "1250/1250 [==============================] - 22s 17ms/step - loss: 2.3017 - accuracy: 0.1140 - val_loss: 2.3016 - val_accuracy: 0.1061\n",
      "Epoch 6/20\n",
      "1250/1250 [==============================] - 23s 18ms/step - loss: 2.3015 - accuracy: 0.1213 - val_loss: 2.3015 - val_accuracy: 0.1069\n",
      "Epoch 7/20\n",
      "1250/1250 [==============================] - 22s 18ms/step - loss: 2.3013 - accuracy: 0.1198 - val_loss: 2.3013 - val_accuracy: 0.1055\n",
      "Epoch 8/20\n",
      "1250/1250 [==============================] - 21s 17ms/step - loss: 2.3011 - accuracy: 0.1247 - val_loss: 2.3011 - val_accuracy: 0.1104\n",
      "Epoch 9/20\n",
      "1250/1250 [==============================] - 23s 18ms/step - loss: 2.3009 - accuracy: 0.1324 - val_loss: 2.3009 - val_accuracy: 0.1178\n",
      "Epoch 10/20\n",
      "1250/1250 [==============================] - 19s 15ms/step - loss: 2.3008 - accuracy: 0.1373 - val_loss: 2.3007 - val_accuracy: 0.1222\n",
      "Epoch 11/20\n",
      "1250/1250 [==============================] - 12s 10ms/step - loss: 2.3006 - accuracy: 0.1321 - val_loss: 2.3005 - val_accuracy: 0.1252\n",
      "Epoch 12/20\n",
      "1250/1250 [==============================] - 12s 9ms/step - loss: 2.3004 - accuracy: 0.1367 - val_loss: 2.3003 - val_accuracy: 0.1294\n",
      "Epoch 13/20\n",
      "1250/1250 [==============================] - 12s 9ms/step - loss: 2.3002 - accuracy: 0.1411 - val_loss: 2.3001 - val_accuracy: 0.1407\n",
      "Epoch 14/20\n",
      "1250/1250 [==============================] - 12s 10ms/step - loss: 2.3000 - accuracy: 0.1488 - val_loss: 2.2999 - val_accuracy: 0.1445\n",
      "Epoch 15/20\n",
      "1250/1250 [==============================] - 11s 9ms/step - loss: 2.2998 - accuracy: 0.1458 - val_loss: 2.2997 - val_accuracy: 0.1506\n",
      "Epoch 16/20\n",
      "1250/1250 [==============================] - 7s 6ms/step - loss: 2.2995 - accuracy: 0.1505 - val_loss: 2.2995 - val_accuracy: 0.1592\n",
      "Epoch 17/20\n",
      "1250/1250 [==============================] - 7s 5ms/step - loss: 2.2993 - accuracy: 0.1533 - val_loss: 2.2992 - val_accuracy: 0.1589\n",
      "Epoch 18/20\n",
      "1250/1250 [==============================] - 7s 5ms/step - loss: 2.2991 - accuracy: 0.1545 - val_loss: 2.2990 - val_accuracy: 0.1617\n",
      "Epoch 19/20\n",
      "1250/1250 [==============================] - 7s 5ms/step - loss: 2.2988 - accuracy: 0.1565 - val_loss: 2.2988 - val_accuracy: 0.1659\n",
      "Epoch 20/20\n",
      "1250/1250 [==============================] - 6s 5ms/step - loss: 2.2986 - accuracy: 0.1613 - val_loss: 2.2985 - val_accuracy: 0.1690\n",
      "313/313 [==============================] - 1s 2ms/step - loss: 2.2984 - accuracy: 0.1666\n",
      "Test Loss : 2.298417806625366 \n",
      " Test Accuracy : 16.660%\n"
     ]
    }
   ],
   "source": [
    "# Best Train 2\n",
    "n_hidden = 2\n",
    "n_neurons = 155\n",
    "learning_rate = 0.0009452767099282696\n",
    "kernel_initializer = 'glorot_normal'\n",
    "optimizer = 'adagrad'\n",
    "activation = 'elu'\n",
    "drop_out = 0.2980296105401524\n",
    "# Score = 0.6581200003623963 #16.3\n",
    "\n",
    "model = tf.keras.Sequential()\n",
    "model.add(tf.keras.layers.Flatten())\n",
    "for _ in range(n_hidden):\n",
    "    model.add(tf.keras.layers.Dense(n_neurons, activation=activation, kernel_initializer=kernel_initializer))\n",
    "    model.add(tf.keras.layers.Dropout(drop_out))\n",
    "model.add(tf.keras.layers.Dense(10, activation=\"softmax\"))\n",
    "model.compile(loss=\"sparse_categorical_crossentropy\", optimizer=optimizer,metrics=[\"accuracy\"])\n",
    "\n",
    "model.fit(x_train, y_train, epochs=epochs, validation_split=0.2)\n",
    "test_loss, test_accuracy = model.evaluate(x_test, y_test)\n",
    "print(f'Test Loss : {test_loss} \\n Test Accuracy : {test_accuracy:.3%}')"
   ]
  },
  {
   "cell_type": "code",
   "execution_count": 40,
   "metadata": {},
   "outputs": [
    {
     "name": "stdout",
     "output_type": "stream",
     "text": [
      "Test Loss : 2.298417806625366 \n",
      "Test Accuracy : 16.660%\n"
     ]
    }
   ],
   "source": [
    "print(f'Test Loss : {test_loss} \\nTest Accuracy : {test_accuracy:.3%}')"
   ]
  }
 ],
 "metadata": {
  "kernelspec": {
   "display_name": "Python 3.9.13 ('tf')",
   "language": "python",
   "name": "python3"
  },
  "language_info": {
   "codemirror_mode": {
    "name": "ipython",
    "version": 3
   },
   "file_extension": ".py",
   "mimetype": "text/x-python",
   "name": "python",
   "nbconvert_exporter": "python",
   "pygments_lexer": "ipython3",
   "version": "3.9.15"
  },
  "orig_nbformat": 4,
  "vscode": {
   "interpreter": {
    "hash": "4271d910d458382237d50acf2e0e3e88f0b9ae219d280a9e770ed735fa5ba00a"
   }
  }
 },
 "nbformat": 4,
 "nbformat_minor": 2
}
