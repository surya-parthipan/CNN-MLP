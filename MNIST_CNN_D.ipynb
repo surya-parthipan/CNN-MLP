{
 "cells": [
  {
   "cell_type": "code",
   "execution_count": 25,
   "metadata": {},
   "outputs": [],
   "source": [
    "from __future__ import print_function\n",
    "import tensorflow as tf\n",
    "import keras\n",
    "import numpy as np\n",
    "import matplotlib.pyplot as plt"
   ]
  },
  {
   "cell_type": "code",
   "execution_count": 26,
   "metadata": {},
   "outputs": [],
   "source": [
    "batch_size = 128\n",
    "num_classes = 10\n",
    "epochs = 15\n",
    "# input image dimensions\n",
    "img_rows, img_cols = 28, 28\n",
    "input_shape = (img_rows, img_cols, 1)"
   ]
  },
  {
   "cell_type": "code",
   "execution_count": 27,
   "metadata": {},
   "outputs": [],
   "source": [
    "fashion_mnist = tf.keras.datasets.fashion_mnist.load_data()\n",
    "(x_train, y_train), (x_test, y_test) = fashion_mnist"
   ]
  },
  {
   "cell_type": "code",
   "execution_count": 28,
   "metadata": {},
   "outputs": [
    {
     "data": {
      "text/plain": [
       "(10000, 28, 28)"
      ]
     },
     "execution_count": 28,
     "metadata": {},
     "output_type": "execute_result"
    }
   ],
   "source": [
    "x_train.shape\n",
    "x_test.shape"
   ]
  },
  {
   "cell_type": "code",
   "execution_count": 29,
   "metadata": {},
   "outputs": [],
   "source": [
    "# plt.figure()\n",
    "# plt.imshow(x_train[1]/255)\n",
    "# plt.gray()"
   ]
  },
  {
   "cell_type": "code",
   "execution_count": 30,
   "metadata": {},
   "outputs": [
    {
     "name": "stdout",
     "output_type": "stream",
     "text": [
      "x_train shape: (60000, 28, 28, 1)\n",
      "60000 train samples\n",
      "10000 test samples\n"
     ]
    }
   ],
   "source": [
    "x_train = x_train.astype('float32') / 255\n",
    "x_test = x_test.astype('float32') / 255\n",
    "x_train = np.expand_dims(x_train, -1)\n",
    "x_test = np.expand_dims(x_test, -1)\n",
    "print('x_train shape:', x_train.shape)\n",
    "print(x_train.shape[0], 'train samples')\n",
    "print(x_test.shape[0], 'test samples')"
   ]
  },
  {
   "cell_type": "code",
   "execution_count": 31,
   "metadata": {},
   "outputs": [],
   "source": [
    "# convert class vectors to binary class matrices\n",
    "y_train = keras.utils.to_categorical(y_train, num_classes)  # type: ignore\n",
    "y_test = keras.utils.to_categorical(y_test, num_classes)  # type: ignore"
   ]
  },
  {
   "cell_type": "code",
   "execution_count": 53,
   "metadata": {},
   "outputs": [
    {
     "name": "stdout",
     "output_type": "stream",
     "text": [
      "Model: \"sequential_9\"\n",
      "_________________________________________________________________\n",
      " Layer (type)                Output Shape              Param #   \n",
      "=================================================================\n",
      " conv2d_63 (Conv2D)          (None, 28, 28, 32)        320       \n",
      "                                                                 \n",
      " conv2d_64 (Conv2D)          (None, 28, 28, 32)        9248      \n",
      "                                                                 \n",
      " max_pooling2d_27 (MaxPoolin  (None, 14, 14, 32)       0         \n",
      " g2D)                                                            \n",
      "                                                                 \n",
      " conv2d_65 (Conv2D)          (None, 14, 14, 64)        18496     \n",
      "                                                                 \n",
      " conv2d_66 (Conv2D)          (None, 14, 14, 64)        36928     \n",
      "                                                                 \n",
      " max_pooling2d_28 (MaxPoolin  (None, 7, 7, 64)         0         \n",
      " g2D)                                                            \n",
      "                                                                 \n",
      " conv2d_67 (Conv2D)          (None, 7, 7, 128)         73856     \n",
      "                                                                 \n",
      " conv2d_68 (Conv2D)          (None, 7, 7, 128)         147584    \n",
      "                                                                 \n",
      " conv2d_69 (Conv2D)          (None, 7, 7, 128)         147584    \n",
      "                                                                 \n",
      " max_pooling2d_29 (MaxPoolin  (None, 3, 3, 128)        0         \n",
      " g2D)                                                            \n",
      "                                                                 \n",
      " flatten_9 (Flatten)         (None, 1152)              0         \n",
      "                                                                 \n",
      " dropout_15 (Dropout)        (None, 1152)              0         \n",
      "                                                                 \n",
      " dense_15 (Dense)            (None, 200)               230600    \n",
      "                                                                 \n",
      " dropout_16 (Dropout)        (None, 200)               0         \n",
      "                                                                 \n",
      " dense_16 (Dense)            (None, 10)                2010      \n",
      "                                                                 \n",
      "=================================================================\n",
      "Total params: 666,626\n",
      "Trainable params: 666,626\n",
      "Non-trainable params: 0\n",
      "_________________________________________________________________\n"
     ]
    }
   ],
   "source": [
    "model = keras.Sequential([\n",
    "    keras.layers.Conv2D(32, kernel_size=(3, 3), activation='relu', input_shape=input_shape, padding='same'),\n",
    "    keras.layers.Conv2D(32, kernel_size=(3, 3), activation='relu', padding='same'),\n",
    "    keras.layers.MaxPooling2D(pool_size=(2, 2)),\n",
    "    keras.layers.Conv2D(64, kernel_size=(3, 3), activation='relu', padding='same'),\n",
    "    keras.layers.Conv2D(64, kernel_size=(3, 3), activation='relu', padding='same'),\n",
    "    keras.layers.MaxPooling2D(pool_size=(2, 2)),\n",
    "    keras.layers.Conv2D(128, kernel_size=(3, 3), activation='relu', padding='same'),\n",
    "    keras.layers.Conv2D(128, kernel_size=(3, 3), activation='relu', padding='same'),\n",
    "    keras.layers.Conv2D(128, kernel_size=(3, 3), activation='relu', padding='same'),\n",
    "    keras.layers.MaxPooling2D(pool_size=(2, 2)),\n",
    "    keras.layers.Flatten(),\n",
    "    keras.layers.Dropout(0.1),\n",
    "    keras.layers.Dense(200, activation='relu'),\n",
    "    keras.layers.Dropout(0.1),\n",
    "    keras.layers.Dense(num_classes, activation='softmax'),\n",
    "])\n",
    "model.summary()"
   ]
  },
  {
   "cell_type": "code",
   "execution_count": 54,
   "metadata": {},
   "outputs": [],
   "source": [
    "model.compile(\n",
    "    loss=\"categorical_crossentropy\", optimizer=\"adam\", metrics=[\"accuracy\"]\n",
    ")"
   ]
  },
  {
   "cell_type": "code",
   "execution_count": 55,
   "metadata": {},
   "outputs": [
    {
     "name": "stdout",
     "output_type": "stream",
     "text": [
      "Epoch 1/15\n",
      "422/422 [==============================] - 12s 25ms/step - loss: 0.6740 - accuracy: 0.7523 - val_loss: 0.3791 - val_accuracy: 0.8560\n",
      "Epoch 2/15\n",
      "422/422 [==============================] - 12s 29ms/step - loss: 0.3708 - accuracy: 0.8639 - val_loss: 0.3013 - val_accuracy: 0.8875\n",
      "Epoch 3/15\n",
      "422/422 [==============================] - 16s 37ms/step - loss: 0.3025 - accuracy: 0.8901 - val_loss: 0.2591 - val_accuracy: 0.9023\n",
      "Epoch 4/15\n",
      "422/422 [==============================] - 16s 38ms/step - loss: 0.2665 - accuracy: 0.9046 - val_loss: 0.2350 - val_accuracy: 0.9152\n",
      "Epoch 5/15\n",
      "422/422 [==============================] - 13s 31ms/step - loss: 0.2429 - accuracy: 0.9131 - val_loss: 0.2254 - val_accuracy: 0.9207\n",
      "Epoch 6/15\n",
      "422/422 [==============================] - 12s 28ms/step - loss: 0.2203 - accuracy: 0.9208 - val_loss: 0.2166 - val_accuracy: 0.9217\n",
      "Epoch 7/15\n",
      "422/422 [==============================] - 13s 31ms/step - loss: 0.2007 - accuracy: 0.9282 - val_loss: 0.2111 - val_accuracy: 0.9213\n",
      "Epoch 8/15\n",
      "422/422 [==============================] - 13s 30ms/step - loss: 0.1867 - accuracy: 0.9338 - val_loss: 0.2085 - val_accuracy: 0.9237\n",
      "Epoch 9/15\n",
      "422/422 [==============================] - 13s 32ms/step - loss: 0.1735 - accuracy: 0.9379 - val_loss: 0.2140 - val_accuracy: 0.9215\n",
      "Epoch 10/15\n",
      "422/422 [==============================] - 13s 30ms/step - loss: 0.1580 - accuracy: 0.9428 - val_loss: 0.2011 - val_accuracy: 0.9273\n",
      "Epoch 11/15\n",
      "422/422 [==============================] - 12s 29ms/step - loss: 0.1470 - accuracy: 0.9472 - val_loss: 0.1958 - val_accuracy: 0.9283\n",
      "Epoch 12/15\n",
      "422/422 [==============================] - 13s 30ms/step - loss: 0.1395 - accuracy: 0.9493 - val_loss: 0.1993 - val_accuracy: 0.9275\n",
      "Epoch 13/15\n",
      "422/422 [==============================] - 13s 31ms/step - loss: 0.1319 - accuracy: 0.9519 - val_loss: 0.1982 - val_accuracy: 0.9308\n",
      "Epoch 14/15\n",
      "422/422 [==============================] - 13s 31ms/step - loss: 0.1190 - accuracy: 0.9556 - val_loss: 0.2297 - val_accuracy: 0.9260\n",
      "Epoch 15/15\n",
      "422/422 [==============================] - 13s 30ms/step - loss: 0.1080 - accuracy: 0.9601 - val_loss: 0.2259 - val_accuracy: 0.9257\n"
     ]
    }
   ],
   "source": [
    "with tf.device('/gpu:0'):\n",
    "    model.fit(x_train, y_train,\n",
    "          batch_size=batch_size,\n",
    "          epochs=15,\n",
    "          validation_split=0.1)\n"
   ]
  },
  {
   "cell_type": "code",
   "execution_count": 56,
   "metadata": {},
   "outputs": [
    {
     "name": "stdout",
     "output_type": "stream",
     "text": [
      "Test loss: 0.25309067964553833\n",
      "Test accuracy: 0.923799991607666\n"
     ]
    }
   ],
   "source": [
    "score = model.evaluate(x_test, y_test, verbose=0)\n",
    "print('Test loss:', score[0])\n",
    "print('Test accuracy:', score[1])"
   ]
  },
  {
   "cell_type": "code",
   "execution_count": 43,
   "metadata": {},
   "outputs": [
    {
     "name": "stdout",
     "output_type": "stream",
     "text": [
      "Model: \"sequential_2\"\n",
      "_________________________________________________________________\n",
      " Layer (type)                Output Shape              Param #   \n",
      "=================================================================\n",
      " conv2d_14 (Conv2D)          (None, 28, 28, 32)        320       \n",
      "                                                                 \n",
      " conv2d_15 (Conv2D)          (None, 28, 28, 32)        9248      \n",
      "                                                                 \n",
      " max_pooling2d_6 (MaxPooling  (None, 14, 14, 32)       0         \n",
      " 2D)                                                             \n",
      "                                                                 \n",
      " conv2d_16 (Conv2D)          (None, 14, 14, 64)        18496     \n",
      "                                                                 \n",
      " conv2d_17 (Conv2D)          (None, 14, 14, 64)        36928     \n",
      "                                                                 \n",
      " max_pooling2d_7 (MaxPooling  (None, 7, 7, 64)         0         \n",
      " 2D)                                                             \n",
      "                                                                 \n",
      " conv2d_18 (Conv2D)          (None, 7, 7, 128)         73856     \n",
      "                                                                 \n",
      " conv2d_19 (Conv2D)          (None, 7, 7, 128)         147584    \n",
      "                                                                 \n",
      " conv2d_20 (Conv2D)          (None, 7, 7, 128)         147584    \n",
      "                                                                 \n",
      " max_pooling2d_8 (MaxPooling  (None, 3, 3, 128)        0         \n",
      " 2D)                                                             \n",
      "                                                                 \n",
      " flatten_2 (Flatten)         (None, 1152)              0         \n",
      "                                                                 \n",
      " dropout_2 (Dropout)         (None, 1152)              0         \n",
      "                                                                 \n",
      " dense_2 (Dense)             (None, 10)                11530     \n",
      "                                                                 \n",
      "=================================================================\n",
      "Total params: 445,546\n",
      "Trainable params: 445,546\n",
      "Non-trainable params: 0\n",
      "_________________________________________________________________\n"
     ]
    }
   ],
   "source": [
    "model2 = keras.Sequential([\n",
    "    keras.layers.Conv2D(32, kernel_size=(3, 3), activation='relu', input_shape=input_shape, padding='same'),\n",
    "    keras.layers.Conv2D(32, kernel_size=(3, 3), activation='relu', padding='same'),\n",
    "    keras.layers.MaxPooling2D(pool_size=(2, 2)),\n",
    "    keras.layers.Conv2D(64, kernel_size=(3, 3), activation='relu', padding='same'),\n",
    "    keras.layers.Conv2D(64, kernel_size=(3, 3), activation='relu', padding='same'),\n",
    "    keras.layers.MaxPooling2D(pool_size=(2, 2)),\n",
    "    keras.layers.Conv2D(128, kernel_size=(3, 3), activation='relu', padding='same'),\n",
    "    keras.layers.Conv2D(128, kernel_size=(3, 3), activation='relu', padding='same'),\n",
    "    keras.layers.Conv2D(128, kernel_size=(3, 3), activation='relu', padding='same'),\n",
    "    keras.layers.MaxPooling2D(pool_size=(2, 2)),\n",
    "    keras.layers.Flatten(),\n",
    "    keras.layers.Dropout(0.1),\n",
    "    keras.layers.Dense(200, activation='relu',kernel_regularizer=keras.regularizers.l1()),\n",
    "    keras.layers.Dropout(0.1),\n",
    "    keras.layers.Dense(num_classes, activation='softmax'),\n",
    "])\n",
    "model.summary()"
   ]
  },
  {
   "cell_type": "code",
   "execution_count": 44,
   "metadata": {},
   "outputs": [],
   "source": [
    "model2.compile(\n",
    "    loss=\"categorical_crossentropy\", optimizer=\"adam\", metrics=[\"accuracy\"]\n",
    ")"
   ]
  },
  {
   "cell_type": "code",
   "execution_count": 45,
   "metadata": {},
   "outputs": [
    {
     "name": "stdout",
     "output_type": "stream",
     "text": [
      "Epoch 1/15\n",
      "422/422 [==============================] - 11s 24ms/step - loss: 13.5532 - accuracy: 0.0980 - val_loss: 3.1272 - val_accuracy: 0.0973\n",
      "Epoch 2/15\n",
      "422/422 [==============================] - 10s 24ms/step - loss: 3.1201 - accuracy: 0.0990 - val_loss: 3.1220 - val_accuracy: 0.0942\n",
      "Epoch 3/15\n",
      "422/422 [==============================] - 11s 26ms/step - loss: 3.1200 - accuracy: 0.0973 - val_loss: 3.1217 - val_accuracy: 0.0973\n",
      "Epoch 4/15\n",
      "422/422 [==============================] - 14s 32ms/step - loss: 3.1198 - accuracy: 0.0997 - val_loss: 3.1229 - val_accuracy: 0.0942\n",
      "Epoch 5/15\n",
      "114/422 [=======>......................] - ETA: 9s - loss: 3.1196 - accuracy: 0.0970"
     ]
    },
    {
     "ename": "KeyboardInterrupt",
     "evalue": "",
     "output_type": "error",
     "traceback": [
      "\u001b[1;31m---------------------------------------------------------------------------\u001b[0m",
      "\u001b[1;31mKeyboardInterrupt\u001b[0m                         Traceback (most recent call last)",
      "\u001b[1;32md:\\first_year\\IntroductionToDL\\A2\\IDL_T2\\MNIST_CNN_D.ipynb Cell 14\u001b[0m in \u001b[0;36m<cell line: 1>\u001b[1;34m()\u001b[0m\n\u001b[0;32m      <a href='vscode-notebook-cell:/d%3A/first_year/IntroductionToDL/A2/IDL_T2/MNIST_CNN_D.ipynb#X20sZmlsZQ%3D%3D?line=0'>1</a>\u001b[0m \u001b[39mwith\u001b[39;00m tf\u001b[39m.\u001b[39mdevice(\u001b[39m'\u001b[39m\u001b[39m/gpu:0\u001b[39m\u001b[39m'\u001b[39m):\n\u001b[1;32m----> <a href='vscode-notebook-cell:/d%3A/first_year/IntroductionToDL/A2/IDL_T2/MNIST_CNN_D.ipynb#X20sZmlsZQ%3D%3D?line=1'>2</a>\u001b[0m     model2\u001b[39m.\u001b[39;49mfit(x_train, y_train,\n\u001b[0;32m      <a href='vscode-notebook-cell:/d%3A/first_year/IntroductionToDL/A2/IDL_T2/MNIST_CNN_D.ipynb#X20sZmlsZQ%3D%3D?line=2'>3</a>\u001b[0m           batch_size\u001b[39m=\u001b[39;49mbatch_size,\n\u001b[0;32m      <a href='vscode-notebook-cell:/d%3A/first_year/IntroductionToDL/A2/IDL_T2/MNIST_CNN_D.ipynb#X20sZmlsZQ%3D%3D?line=3'>4</a>\u001b[0m           epochs\u001b[39m=\u001b[39;49m\u001b[39m15\u001b[39;49m,\n\u001b[0;32m      <a href='vscode-notebook-cell:/d%3A/first_year/IntroductionToDL/A2/IDL_T2/MNIST_CNN_D.ipynb#X20sZmlsZQ%3D%3D?line=4'>5</a>\u001b[0m           validation_split\u001b[39m=\u001b[39;49m\u001b[39m0.1\u001b[39;49m)\n",
      "File \u001b[1;32mc:\\Users\\Cata\\anaconda3\\envs\\IDL\\lib\\site-packages\\keras\\utils\\traceback_utils.py:65\u001b[0m, in \u001b[0;36mfilter_traceback.<locals>.error_handler\u001b[1;34m(*args, **kwargs)\u001b[0m\n\u001b[0;32m     63\u001b[0m filtered_tb \u001b[39m=\u001b[39m \u001b[39mNone\u001b[39;00m\n\u001b[0;32m     64\u001b[0m \u001b[39mtry\u001b[39;00m:\n\u001b[1;32m---> 65\u001b[0m     \u001b[39mreturn\u001b[39;00m fn(\u001b[39m*\u001b[39margs, \u001b[39m*\u001b[39m\u001b[39m*\u001b[39mkwargs)\n\u001b[0;32m     66\u001b[0m \u001b[39mexcept\u001b[39;00m \u001b[39mException\u001b[39;00m \u001b[39mas\u001b[39;00m e:\n\u001b[0;32m     67\u001b[0m     filtered_tb \u001b[39m=\u001b[39m _process_traceback_frames(e\u001b[39m.\u001b[39m__traceback__)\n",
      "File \u001b[1;32mc:\\Users\\Cata\\anaconda3\\envs\\IDL\\lib\\site-packages\\keras\\engine\\training.py:1564\u001b[0m, in \u001b[0;36mModel.fit\u001b[1;34m(self, x, y, batch_size, epochs, verbose, callbacks, validation_split, validation_data, shuffle, class_weight, sample_weight, initial_epoch, steps_per_epoch, validation_steps, validation_batch_size, validation_freq, max_queue_size, workers, use_multiprocessing)\u001b[0m\n\u001b[0;32m   1556\u001b[0m \u001b[39mwith\u001b[39;00m tf\u001b[39m.\u001b[39mprofiler\u001b[39m.\u001b[39mexperimental\u001b[39m.\u001b[39mTrace(\n\u001b[0;32m   1557\u001b[0m     \u001b[39m\"\u001b[39m\u001b[39mtrain\u001b[39m\u001b[39m\"\u001b[39m,\n\u001b[0;32m   1558\u001b[0m     epoch_num\u001b[39m=\u001b[39mepoch,\n\u001b[1;32m   (...)\u001b[0m\n\u001b[0;32m   1561\u001b[0m     _r\u001b[39m=\u001b[39m\u001b[39m1\u001b[39m,\n\u001b[0;32m   1562\u001b[0m ):\n\u001b[0;32m   1563\u001b[0m     callbacks\u001b[39m.\u001b[39mon_train_batch_begin(step)\n\u001b[1;32m-> 1564\u001b[0m     tmp_logs \u001b[39m=\u001b[39m \u001b[39mself\u001b[39;49m\u001b[39m.\u001b[39;49mtrain_function(iterator)\n\u001b[0;32m   1565\u001b[0m     \u001b[39mif\u001b[39;00m data_handler\u001b[39m.\u001b[39mshould_sync:\n\u001b[0;32m   1566\u001b[0m         context\u001b[39m.\u001b[39masync_wait()\n",
      "File \u001b[1;32m~\\AppData\\Roaming\\Python\\Python39\\site-packages\\tensorflow\\python\\util\\traceback_utils.py:150\u001b[0m, in \u001b[0;36mfilter_traceback.<locals>.error_handler\u001b[1;34m(*args, **kwargs)\u001b[0m\n\u001b[0;32m    148\u001b[0m filtered_tb \u001b[39m=\u001b[39m \u001b[39mNone\u001b[39;00m\n\u001b[0;32m    149\u001b[0m \u001b[39mtry\u001b[39;00m:\n\u001b[1;32m--> 150\u001b[0m   \u001b[39mreturn\u001b[39;00m fn(\u001b[39m*\u001b[39margs, \u001b[39m*\u001b[39m\u001b[39m*\u001b[39mkwargs)\n\u001b[0;32m    151\u001b[0m \u001b[39mexcept\u001b[39;00m \u001b[39mException\u001b[39;00m \u001b[39mas\u001b[39;00m e:\n\u001b[0;32m    152\u001b[0m   filtered_tb \u001b[39m=\u001b[39m _process_traceback_frames(e\u001b[39m.\u001b[39m__traceback__)\n",
      "File \u001b[1;32m~\\AppData\\Roaming\\Python\\Python39\\site-packages\\tensorflow\\python\\eager\\def_function.py:915\u001b[0m, in \u001b[0;36mFunction.__call__\u001b[1;34m(self, *args, **kwds)\u001b[0m\n\u001b[0;32m    912\u001b[0m compiler \u001b[39m=\u001b[39m \u001b[39m\"\u001b[39m\u001b[39mxla\u001b[39m\u001b[39m\"\u001b[39m \u001b[39mif\u001b[39;00m \u001b[39mself\u001b[39m\u001b[39m.\u001b[39m_jit_compile \u001b[39melse\u001b[39;00m \u001b[39m\"\u001b[39m\u001b[39mnonXla\u001b[39m\u001b[39m\"\u001b[39m\n\u001b[0;32m    914\u001b[0m \u001b[39mwith\u001b[39;00m OptionalXlaContext(\u001b[39mself\u001b[39m\u001b[39m.\u001b[39m_jit_compile):\n\u001b[1;32m--> 915\u001b[0m   result \u001b[39m=\u001b[39m \u001b[39mself\u001b[39m\u001b[39m.\u001b[39m_call(\u001b[39m*\u001b[39margs, \u001b[39m*\u001b[39m\u001b[39m*\u001b[39mkwds)\n\u001b[0;32m    917\u001b[0m new_tracing_count \u001b[39m=\u001b[39m \u001b[39mself\u001b[39m\u001b[39m.\u001b[39mexperimental_get_tracing_count()\n\u001b[0;32m    918\u001b[0m without_tracing \u001b[39m=\u001b[39m (tracing_count \u001b[39m==\u001b[39m new_tracing_count)\n",
      "File \u001b[1;32m~\\AppData\\Roaming\\Python\\Python39\\site-packages\\tensorflow\\python\\eager\\def_function.py:947\u001b[0m, in \u001b[0;36mFunction._call\u001b[1;34m(self, *args, **kwds)\u001b[0m\n\u001b[0;32m    944\u001b[0m   \u001b[39mself\u001b[39m\u001b[39m.\u001b[39m_lock\u001b[39m.\u001b[39mrelease()\n\u001b[0;32m    945\u001b[0m   \u001b[39m# In this case we have created variables on the first call, so we run the\u001b[39;00m\n\u001b[0;32m    946\u001b[0m   \u001b[39m# defunned version which is guaranteed to never create variables.\u001b[39;00m\n\u001b[1;32m--> 947\u001b[0m   \u001b[39mreturn\u001b[39;00m \u001b[39mself\u001b[39m\u001b[39m.\u001b[39m_stateless_fn(\u001b[39m*\u001b[39margs, \u001b[39m*\u001b[39m\u001b[39m*\u001b[39mkwds)  \u001b[39m# pylint: disable=not-callable\u001b[39;00m\n\u001b[0;32m    948\u001b[0m \u001b[39melif\u001b[39;00m \u001b[39mself\u001b[39m\u001b[39m.\u001b[39m_stateful_fn \u001b[39mis\u001b[39;00m \u001b[39mnot\u001b[39;00m \u001b[39mNone\u001b[39;00m:\n\u001b[0;32m    949\u001b[0m   \u001b[39m# Release the lock early so that multiple threads can perform the call\u001b[39;00m\n\u001b[0;32m    950\u001b[0m   \u001b[39m# in parallel.\u001b[39;00m\n\u001b[0;32m    951\u001b[0m   \u001b[39mself\u001b[39m\u001b[39m.\u001b[39m_lock\u001b[39m.\u001b[39mrelease()\n",
      "File \u001b[1;32m~\\AppData\\Roaming\\Python\\Python39\\site-packages\\tensorflow\\python\\eager\\function.py:2496\u001b[0m, in \u001b[0;36mFunction.__call__\u001b[1;34m(self, *args, **kwargs)\u001b[0m\n\u001b[0;32m   2493\u001b[0m \u001b[39mwith\u001b[39;00m \u001b[39mself\u001b[39m\u001b[39m.\u001b[39m_lock:\n\u001b[0;32m   2494\u001b[0m   (graph_function,\n\u001b[0;32m   2495\u001b[0m    filtered_flat_args) \u001b[39m=\u001b[39m \u001b[39mself\u001b[39m\u001b[39m.\u001b[39m_maybe_define_function(args, kwargs)\n\u001b[1;32m-> 2496\u001b[0m \u001b[39mreturn\u001b[39;00m graph_function\u001b[39m.\u001b[39;49m_call_flat(\n\u001b[0;32m   2497\u001b[0m     filtered_flat_args, captured_inputs\u001b[39m=\u001b[39;49mgraph_function\u001b[39m.\u001b[39;49mcaptured_inputs)\n",
      "File \u001b[1;32m~\\AppData\\Roaming\\Python\\Python39\\site-packages\\tensorflow\\python\\eager\\function.py:1862\u001b[0m, in \u001b[0;36mConcreteFunction._call_flat\u001b[1;34m(self, args, captured_inputs, cancellation_manager)\u001b[0m\n\u001b[0;32m   1858\u001b[0m possible_gradient_type \u001b[39m=\u001b[39m gradients_util\u001b[39m.\u001b[39mPossibleTapeGradientTypes(args)\n\u001b[0;32m   1859\u001b[0m \u001b[39mif\u001b[39;00m (possible_gradient_type \u001b[39m==\u001b[39m gradients_util\u001b[39m.\u001b[39mPOSSIBLE_GRADIENT_TYPES_NONE\n\u001b[0;32m   1860\u001b[0m     \u001b[39mand\u001b[39;00m executing_eagerly):\n\u001b[0;32m   1861\u001b[0m   \u001b[39m# No tape is watching; skip to running the function.\u001b[39;00m\n\u001b[1;32m-> 1862\u001b[0m   \u001b[39mreturn\u001b[39;00m \u001b[39mself\u001b[39m\u001b[39m.\u001b[39m_build_call_outputs(\u001b[39mself\u001b[39;49m\u001b[39m.\u001b[39;49m_inference_function\u001b[39m.\u001b[39;49mcall(\n\u001b[0;32m   1863\u001b[0m       ctx, args, cancellation_manager\u001b[39m=\u001b[39;49mcancellation_manager))\n\u001b[0;32m   1864\u001b[0m forward_backward \u001b[39m=\u001b[39m \u001b[39mself\u001b[39m\u001b[39m.\u001b[39m_select_forward_and_backward_functions(\n\u001b[0;32m   1865\u001b[0m     args,\n\u001b[0;32m   1866\u001b[0m     possible_gradient_type,\n\u001b[0;32m   1867\u001b[0m     executing_eagerly)\n\u001b[0;32m   1868\u001b[0m forward_function, args_with_tangents \u001b[39m=\u001b[39m forward_backward\u001b[39m.\u001b[39mforward()\n",
      "File \u001b[1;32m~\\AppData\\Roaming\\Python\\Python39\\site-packages\\tensorflow\\python\\eager\\function.py:499\u001b[0m, in \u001b[0;36m_EagerDefinedFunction.call\u001b[1;34m(self, ctx, args, cancellation_manager)\u001b[0m\n\u001b[0;32m    497\u001b[0m \u001b[39mwith\u001b[39;00m _InterpolateFunctionError(\u001b[39mself\u001b[39m):\n\u001b[0;32m    498\u001b[0m   \u001b[39mif\u001b[39;00m cancellation_manager \u001b[39mis\u001b[39;00m \u001b[39mNone\u001b[39;00m:\n\u001b[1;32m--> 499\u001b[0m     outputs \u001b[39m=\u001b[39m execute\u001b[39m.\u001b[39;49mexecute(\n\u001b[0;32m    500\u001b[0m         \u001b[39mstr\u001b[39;49m(\u001b[39mself\u001b[39;49m\u001b[39m.\u001b[39;49msignature\u001b[39m.\u001b[39;49mname),\n\u001b[0;32m    501\u001b[0m         num_outputs\u001b[39m=\u001b[39;49m\u001b[39mself\u001b[39;49m\u001b[39m.\u001b[39;49m_num_outputs,\n\u001b[0;32m    502\u001b[0m         inputs\u001b[39m=\u001b[39;49margs,\n\u001b[0;32m    503\u001b[0m         attrs\u001b[39m=\u001b[39;49mattrs,\n\u001b[0;32m    504\u001b[0m         ctx\u001b[39m=\u001b[39;49mctx)\n\u001b[0;32m    505\u001b[0m   \u001b[39melse\u001b[39;00m:\n\u001b[0;32m    506\u001b[0m     outputs \u001b[39m=\u001b[39m execute\u001b[39m.\u001b[39mexecute_with_cancellation(\n\u001b[0;32m    507\u001b[0m         \u001b[39mstr\u001b[39m(\u001b[39mself\u001b[39m\u001b[39m.\u001b[39msignature\u001b[39m.\u001b[39mname),\n\u001b[0;32m    508\u001b[0m         num_outputs\u001b[39m=\u001b[39m\u001b[39mself\u001b[39m\u001b[39m.\u001b[39m_num_outputs,\n\u001b[1;32m   (...)\u001b[0m\n\u001b[0;32m    511\u001b[0m         ctx\u001b[39m=\u001b[39mctx,\n\u001b[0;32m    512\u001b[0m         cancellation_manager\u001b[39m=\u001b[39mcancellation_manager)\n",
      "File \u001b[1;32m~\\AppData\\Roaming\\Python\\Python39\\site-packages\\tensorflow\\python\\eager\\execute.py:54\u001b[0m, in \u001b[0;36mquick_execute\u001b[1;34m(op_name, num_outputs, inputs, attrs, ctx, name)\u001b[0m\n\u001b[0;32m     52\u001b[0m \u001b[39mtry\u001b[39;00m:\n\u001b[0;32m     53\u001b[0m   ctx\u001b[39m.\u001b[39mensure_initialized()\n\u001b[1;32m---> 54\u001b[0m   tensors \u001b[39m=\u001b[39m pywrap_tfe\u001b[39m.\u001b[39;49mTFE_Py_Execute(ctx\u001b[39m.\u001b[39;49m_handle, device_name, op_name,\n\u001b[0;32m     55\u001b[0m                                       inputs, attrs, num_outputs)\n\u001b[0;32m     56\u001b[0m \u001b[39mexcept\u001b[39;00m core\u001b[39m.\u001b[39m_NotOkStatusException \u001b[39mas\u001b[39;00m e:\n\u001b[0;32m     57\u001b[0m   \u001b[39mif\u001b[39;00m name \u001b[39mis\u001b[39;00m \u001b[39mnot\u001b[39;00m \u001b[39mNone\u001b[39;00m:\n",
      "\u001b[1;31mKeyboardInterrupt\u001b[0m: "
     ]
    }
   ],
   "source": [
    "with tf.device('/gpu:0'):\n",
    "    model2.fit(x_train, y_train,\n",
    "          batch_size=batch_size,\n",
    "          epochs=15,\n",
    "          validation_split=0.1)\n"
   ]
  },
  {
   "cell_type": "code",
   "execution_count": 41,
   "metadata": {},
   "outputs": [
    {
     "name": "stdout",
     "output_type": "stream",
     "text": [
      "Test loss: 1.104526400566101\n",
      "Test accuracy: 0.921500027179718\n"
     ]
    }
   ],
   "source": [
    "score = model2.evaluate(x_test, y_test, verbose=0)\n",
    "print('Test loss:', score[0])\n",
    "print('Test accuracy:', score[1])"
   ]
  },
  {
   "cell_type": "code",
   "execution_count": 49,
   "metadata": {},
   "outputs": [
    {
     "name": "stdout",
     "output_type": "stream",
     "text": [
      "Model: \"sequential_2\"\n",
      "_________________________________________________________________\n",
      " Layer (type)                Output Shape              Param #   \n",
      "=================================================================\n",
      " conv2d_14 (Conv2D)          (None, 28, 28, 32)        320       \n",
      "                                                                 \n",
      " conv2d_15 (Conv2D)          (None, 28, 28, 32)        9248      \n",
      "                                                                 \n",
      " max_pooling2d_6 (MaxPooling  (None, 14, 14, 32)       0         \n",
      " 2D)                                                             \n",
      "                                                                 \n",
      " conv2d_16 (Conv2D)          (None, 14, 14, 64)        18496     \n",
      "                                                                 \n",
      " conv2d_17 (Conv2D)          (None, 14, 14, 64)        36928     \n",
      "                                                                 \n",
      " max_pooling2d_7 (MaxPooling  (None, 7, 7, 64)         0         \n",
      " 2D)                                                             \n",
      "                                                                 \n",
      " conv2d_18 (Conv2D)          (None, 7, 7, 128)         73856     \n",
      "                                                                 \n",
      " conv2d_19 (Conv2D)          (None, 7, 7, 128)         147584    \n",
      "                                                                 \n",
      " conv2d_20 (Conv2D)          (None, 7, 7, 128)         147584    \n",
      "                                                                 \n",
      " max_pooling2d_8 (MaxPooling  (None, 3, 3, 128)        0         \n",
      " 2D)                                                             \n",
      "                                                                 \n",
      " flatten_2 (Flatten)         (None, 1152)              0         \n",
      "                                                                 \n",
      " dropout_2 (Dropout)         (None, 1152)              0         \n",
      "                                                                 \n",
      " dense_2 (Dense)             (None, 10)                11530     \n",
      "                                                                 \n",
      "=================================================================\n",
      "Total params: 445,546\n",
      "Trainable params: 445,546\n",
      "Non-trainable params: 0\n",
      "_________________________________________________________________\n"
     ]
    }
   ],
   "source": [
    "model3 = keras.Sequential([\n",
    "    keras.layers.Conv2D(32, kernel_size=(3, 3), activation='relu', input_shape=input_shape, padding='same'),\n",
    "    keras.layers.Conv2D(32, kernel_size=(3, 3), activation='relu', padding='same'),\n",
    "    keras.layers.MaxPooling2D(pool_size=(2, 2)),\n",
    "    keras.layers.Conv2D(64, kernel_size=(3, 3), activation='relu', padding='same'),\n",
    "    keras.layers.Conv2D(64, kernel_size=(3, 3), activation='relu', padding='same'),\n",
    "    keras.layers.MaxPooling2D(pool_size=(2, 2)),\n",
    "    keras.layers.Conv2D(128, kernel_size=(3, 3), activation='relu', padding='same'),\n",
    "    keras.layers.Conv2D(128, kernel_size=(3, 3), activation='relu', padding='same'),\n",
    "    keras.layers.Conv2D(128, kernel_size=(3, 3), activation='relu', padding='same'),\n",
    "    keras.layers.MaxPooling2D(pool_size=(2, 2)),\n",
    "    keras.layers.Flatten(),\n",
    "    keras.layers.Dropout(0.1),\n",
    "    keras.layers.Dense(200, activation='relu',kernel_regularizer=keras.regularizers.l2()),\n",
    "    keras.layers.Dropout(0.1),\n",
    "    keras.layers.Dense(num_classes, activation='softmax'),\n",
    "])\n",
    "model.summary()"
   ]
  },
  {
   "cell_type": "code",
   "execution_count": 50,
   "metadata": {},
   "outputs": [
    {
     "name": "stdout",
     "output_type": "stream",
     "text": [
      "Epoch 1/15\n",
      "422/422 [==============================] - 12s 25ms/step - loss: 1.1321 - accuracy: 0.7567 - val_loss: 0.5076 - val_accuracy: 0.8623\n",
      "Epoch 2/15\n",
      "422/422 [==============================] - 10s 25ms/step - loss: 0.5119 - accuracy: 0.8609 - val_loss: 0.4081 - val_accuracy: 0.8918\n",
      "Epoch 3/15\n",
      "422/422 [==============================] - 11s 27ms/step - loss: 0.4365 - accuracy: 0.8836 - val_loss: 0.3761 - val_accuracy: 0.8957\n",
      "Epoch 4/15\n",
      "422/422 [==============================] - 12s 28ms/step - loss: 0.3980 - accuracy: 0.8933 - val_loss: 0.3537 - val_accuracy: 0.9057\n",
      "Epoch 5/15\n",
      "422/422 [==============================] - 13s 30ms/step - loss: 0.3691 - accuracy: 0.9031 - val_loss: 0.3500 - val_accuracy: 0.9097\n",
      "Epoch 6/15\n",
      "422/422 [==============================] - 15s 36ms/step - loss: 0.3468 - accuracy: 0.9101 - val_loss: 0.3178 - val_accuracy: 0.9168\n",
      "Epoch 7/15\n",
      "422/422 [==============================] - 13s 30ms/step - loss: 0.3262 - accuracy: 0.9165 - val_loss: 0.3084 - val_accuracy: 0.9190\n",
      "Epoch 8/15\n",
      "422/422 [==============================] - 13s 32ms/step - loss: 0.3112 - accuracy: 0.9211 - val_loss: 0.3108 - val_accuracy: 0.9267\n",
      "Epoch 9/15\n",
      "422/422 [==============================] - 14s 32ms/step - loss: 0.2912 - accuracy: 0.9266 - val_loss: 0.2927 - val_accuracy: 0.9255\n",
      "Epoch 10/15\n",
      "422/422 [==============================] - 14s 33ms/step - loss: 0.2813 - accuracy: 0.9318 - val_loss: 0.3048 - val_accuracy: 0.9270\n",
      "Epoch 11/15\n",
      "422/422 [==============================] - 13s 31ms/step - loss: 0.2647 - accuracy: 0.9362 - val_loss: 0.3108 - val_accuracy: 0.9245\n",
      "Epoch 12/15\n",
      "422/422 [==============================] - 13s 30ms/step - loss: 0.2516 - accuracy: 0.9403 - val_loss: 0.2808 - val_accuracy: 0.9315\n",
      "Epoch 13/15\n",
      "422/422 [==============================] - 13s 31ms/step - loss: 0.2407 - accuracy: 0.9438 - val_loss: 0.3120 - val_accuracy: 0.9277\n",
      "Epoch 14/15\n",
      "422/422 [==============================] - 15s 35ms/step - loss: 0.2330 - accuracy: 0.9472 - val_loss: 0.2998 - val_accuracy: 0.9288\n",
      "Epoch 15/15\n",
      "422/422 [==============================] - 13s 31ms/step - loss: 0.2206 - accuracy: 0.9514 - val_loss: 0.2797 - val_accuracy: 0.9327\n"
     ]
    }
   ],
   "source": [
    "model3.compile(\n",
    "    loss=\"categorical_crossentropy\", optimizer=\"adam\", metrics=[\"accuracy\"]\n",
    ")\n",
    "with tf.device('/gpu:0'):\n",
    "    model3.fit(x_train, y_train,\n",
    "          batch_size=batch_size,\n",
    "          epochs=15,\n",
    "          validation_split=0.1)"
   ]
  },
  {
   "cell_type": "code",
   "execution_count": 52,
   "metadata": {},
   "outputs": [
    {
     "name": "stdout",
     "output_type": "stream",
     "text": [
      "Test loss: 0.3079417645931244\n",
      "Test accuracy: 0.929099977016449\n"
     ]
    }
   ],
   "source": [
    "score = model3.evaluate(x_test, y_test, verbose=0)\n",
    "print('Test loss:', score[0])\n",
    "print('Test accuracy:', score[1])"
   ]
  },
  {
   "cell_type": "code",
   "execution_count": 57,
   "metadata": {},
   "outputs": [
    {
     "name": "stdout",
     "output_type": "stream",
     "text": [
      "Model: \"sequential_9\"\n",
      "_________________________________________________________________\n",
      " Layer (type)                Output Shape              Param #   \n",
      "=================================================================\n",
      " conv2d_63 (Conv2D)          (None, 28, 28, 32)        320       \n",
      "                                                                 \n",
      " conv2d_64 (Conv2D)          (None, 28, 28, 32)        9248      \n",
      "                                                                 \n",
      " max_pooling2d_27 (MaxPoolin  (None, 14, 14, 32)       0         \n",
      " g2D)                                                            \n",
      "                                                                 \n",
      " conv2d_65 (Conv2D)          (None, 14, 14, 64)        18496     \n",
      "                                                                 \n",
      " conv2d_66 (Conv2D)          (None, 14, 14, 64)        36928     \n",
      "                                                                 \n",
      " max_pooling2d_28 (MaxPoolin  (None, 7, 7, 64)         0         \n",
      " g2D)                                                            \n",
      "                                                                 \n",
      " conv2d_67 (Conv2D)          (None, 7, 7, 128)         73856     \n",
      "                                                                 \n",
      " conv2d_68 (Conv2D)          (None, 7, 7, 128)         147584    \n",
      "                                                                 \n",
      " conv2d_69 (Conv2D)          (None, 7, 7, 128)         147584    \n",
      "                                                                 \n",
      " max_pooling2d_29 (MaxPoolin  (None, 3, 3, 128)        0         \n",
      " g2D)                                                            \n",
      "                                                                 \n",
      " flatten_9 (Flatten)         (None, 1152)              0         \n",
      "                                                                 \n",
      " dropout_15 (Dropout)        (None, 1152)              0         \n",
      "                                                                 \n",
      " dense_15 (Dense)            (None, 200)               230600    \n",
      "                                                                 \n",
      " dropout_16 (Dropout)        (None, 200)               0         \n",
      "                                                                 \n",
      " dense_16 (Dense)            (None, 10)                2010      \n",
      "                                                                 \n",
      "=================================================================\n",
      "Total params: 666,626\n",
      "Trainable params: 666,626\n",
      "Non-trainable params: 0\n",
      "_________________________________________________________________\n"
     ]
    }
   ],
   "source": [
    "model4 = keras.Sequential([\n",
    "    keras.layers.Conv2D(32, kernel_size=(3, 3), activation='relu', input_shape=input_shape, padding='same'),\n",
    "    keras.layers.Conv2D(32, kernel_size=(3, 3), activation='relu', padding='same'),\n",
    "    keras.layers.MaxPooling2D(pool_size=(2, 2)),\n",
    "    keras.layers.Conv2D(64, kernel_size=(3, 3), activation='relu', padding='same'),\n",
    "    keras.layers.Conv2D(64, kernel_size=(3, 3), activation='relu', padding='same'),\n",
    "    keras.layers.MaxPooling2D(pool_size=(2, 2)),\n",
    "    keras.layers.Conv2D(128, kernel_size=(3, 3), activation='relu', padding='same'),\n",
    "    keras.layers.Conv2D(128, kernel_size=(3, 3), activation='relu', padding='same'),\n",
    "    keras.layers.Conv2D(128, kernel_size=(3, 3), activation='relu', padding='same'),\n",
    "    keras.layers.MaxPooling2D(pool_size=(2, 2)),\n",
    "    keras.layers.Flatten(),\n",
    "    keras.layers.Dense(200, activation='relu'),\n",
    "    keras.layers.Dense(num_classes, activation='softmax'),\n",
    "])\n",
    "model.summary()"
   ]
  },
  {
   "cell_type": "code",
   "execution_count": 58,
   "metadata": {},
   "outputs": [
    {
     "name": "stdout",
     "output_type": "stream",
     "text": [
      "Epoch 1/15\n",
      "422/422 [==============================] - 9s 20ms/step - loss: 0.5270 - accuracy: 0.8074 - val_loss: 0.3423 - val_accuracy: 0.8763\n",
      "Epoch 2/15\n",
      "422/422 [==============================] - 9s 21ms/step - loss: 0.2949 - accuracy: 0.8918 - val_loss: 0.2702 - val_accuracy: 0.9005\n",
      "Epoch 3/15\n",
      "422/422 [==============================] - 9s 21ms/step - loss: 0.2476 - accuracy: 0.9097 - val_loss: 0.2493 - val_accuracy: 0.9092\n",
      "Epoch 4/15\n",
      "422/422 [==============================] - 9s 22ms/step - loss: 0.2141 - accuracy: 0.9209 - val_loss: 0.2320 - val_accuracy: 0.9155\n",
      "Epoch 5/15\n",
      "422/422 [==============================] - 9s 22ms/step - loss: 0.1928 - accuracy: 0.9293 - val_loss: 0.2124 - val_accuracy: 0.9258\n",
      "Epoch 6/15\n",
      "422/422 [==============================] - 10s 23ms/step - loss: 0.1711 - accuracy: 0.9375 - val_loss: 0.2264 - val_accuracy: 0.9187\n",
      "Epoch 7/15\n",
      "422/422 [==============================] - 10s 23ms/step - loss: 0.1531 - accuracy: 0.9436 - val_loss: 0.2414 - val_accuracy: 0.9173\n",
      "Epoch 8/15\n",
      "422/422 [==============================] - 10s 24ms/step - loss: 0.1357 - accuracy: 0.9491 - val_loss: 0.2233 - val_accuracy: 0.9232\n",
      "Epoch 9/15\n",
      "422/422 [==============================] - 10s 24ms/step - loss: 0.1248 - accuracy: 0.9528 - val_loss: 0.2167 - val_accuracy: 0.9295\n",
      "Epoch 10/15\n",
      "422/422 [==============================] - 10s 25ms/step - loss: 0.1040 - accuracy: 0.9607 - val_loss: 0.2228 - val_accuracy: 0.9265\n",
      "Epoch 11/15\n",
      "422/422 [==============================] - 11s 26ms/step - loss: 0.0930 - accuracy: 0.9649 - val_loss: 0.2628 - val_accuracy: 0.9215\n",
      "Epoch 12/15\n",
      "422/422 [==============================] - 11s 27ms/step - loss: 0.0817 - accuracy: 0.9695 - val_loss: 0.2656 - val_accuracy: 0.9188\n",
      "Epoch 13/15\n",
      "422/422 [==============================] - 11s 26ms/step - loss: 0.0736 - accuracy: 0.9721 - val_loss: 0.2772 - val_accuracy: 0.9175\n",
      "Epoch 14/15\n",
      "422/422 [==============================] - 12s 29ms/step - loss: 0.0623 - accuracy: 0.9766 - val_loss: 0.2857 - val_accuracy: 0.9227\n",
      "Epoch 15/15\n",
      "422/422 [==============================] - 12s 29ms/step - loss: 0.0525 - accuracy: 0.9804 - val_loss: 0.2863 - val_accuracy: 0.9203\n"
     ]
    }
   ],
   "source": [
    "model4.compile(\n",
    "    loss=\"categorical_crossentropy\", optimizer=\"adam\", metrics=[\"accuracy\"]\n",
    ")\n",
    "with tf.device('/gpu:0'):\n",
    "    model4.fit(x_train, y_train,\n",
    "          batch_size=batch_size,\n",
    "          epochs=15,\n",
    "          validation_split=0.1)"
   ]
  },
  {
   "cell_type": "code",
   "execution_count": 59,
   "metadata": {},
   "outputs": [
    {
     "name": "stdout",
     "output_type": "stream",
     "text": [
      "Test loss: 0.30835703015327454\n",
      "Test accuracy: 0.9228000044822693\n"
     ]
    }
   ],
   "source": [
    "score = model4.evaluate(x_test, y_test, verbose=0)\n",
    "print('Test loss:', score[0])\n",
    "print('Test accuracy:', score[1])"
   ]
  }
 ],
 "metadata": {
  "kernelspec": {
   "display_name": "Python 3.9.13 ('IDL')",
   "language": "python",
   "name": "python3"
  },
  "language_info": {
   "codemirror_mode": {
    "name": "ipython",
    "version": 3
   },
   "file_extension": ".py",
   "mimetype": "text/x-python",
   "name": "python",
   "nbconvert_exporter": "python",
   "pygments_lexer": "ipython3",
   "version": "3.9.13"
  },
  "orig_nbformat": 4,
  "vscode": {
   "interpreter": {
    "hash": "e1e32b0b6f82329d9304cc4180f7da76b5ef9ce4997a058d104d583bd89d09e9"
   }
  }
 },
 "nbformat": 4,
 "nbformat_minor": 2
}
